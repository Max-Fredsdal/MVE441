{
 "cells": [
  {
   "cell_type": "markdown",
   "id": "1d12fa3a",
   "metadata": {},
   "source": [
    "# Project 2 - Feature Selection\n",
    "\n",
    "## Part 1\n",
    "3 classifiers: LDA, CNN and kNN. \n",
    "\n",
    "2 feature selection methods: backward selection, lasso embedding."
   ]
  },
  {
   "cell_type": "code",
   "execution_count": 116,
   "id": "3ebd0094",
   "metadata": {},
   "outputs": [],
   "source": [
    "# imports\n",
    "\n",
    "import numpy as np\n",
    "import matplotlib.pyplot as plt\n",
    "import seaborn as sns\n",
    "import pandas as pd\n",
    "import torch\n",
    "import torch.nn as nn\n",
    "import torch.nn.functional as F\n"
   ]
  },
  {
   "cell_type": "markdown",
   "id": "4c62b145",
   "metadata": {},
   "source": [
    "### Importing the dataset\n",
    "\n",
    "Here we have a dataset of cats (label 0) and dogs (label 1), images of size 64x64"
   ]
  },
  {
   "cell_type": "code",
   "execution_count": 117,
   "id": "5c066353",
   "metadata": {},
   "outputs": [
    {
     "data": {
      "text/html": [
       "<div>\n",
       "<style scoped>\n",
       "    .dataframe tbody tr th:only-of-type {\n",
       "        vertical-align: middle;\n",
       "    }\n",
       "\n",
       "    .dataframe tbody tr th {\n",
       "        vertical-align: top;\n",
       "    }\n",
       "\n",
       "    .dataframe thead th {\n",
       "        text-align: right;\n",
       "    }\n",
       "</style>\n",
       "<table border=\"1\" class=\"dataframe\">\n",
       "  <thead>\n",
       "    <tr style=\"text-align: right;\">\n",
       "      <th></th>\n",
       "      <th>V1</th>\n",
       "      <th>V2</th>\n",
       "      <th>V3</th>\n",
       "      <th>V4</th>\n",
       "      <th>V5</th>\n",
       "      <th>V6</th>\n",
       "      <th>V7</th>\n",
       "      <th>V8</th>\n",
       "      <th>V9</th>\n",
       "      <th>V10</th>\n",
       "      <th>...</th>\n",
       "      <th>V4088</th>\n",
       "      <th>V4089</th>\n",
       "      <th>V4090</th>\n",
       "      <th>V4091</th>\n",
       "      <th>V4092</th>\n",
       "      <th>V4093</th>\n",
       "      <th>V4094</th>\n",
       "      <th>V4095</th>\n",
       "      <th>V4096</th>\n",
       "      <th>label</th>\n",
       "    </tr>\n",
       "  </thead>\n",
       "  <tbody>\n",
       "    <tr>\n",
       "      <th>1</th>\n",
       "      <td>23</td>\n",
       "      <td>23</td>\n",
       "      <td>20</td>\n",
       "      <td>20</td>\n",
       "      <td>9</td>\n",
       "      <td>9</td>\n",
       "      <td>9</td>\n",
       "      <td>4</td>\n",
       "      <td>4</td>\n",
       "      <td>4</td>\n",
       "      <td>...</td>\n",
       "      <td>108</td>\n",
       "      <td>108</td>\n",
       "      <td>108</td>\n",
       "      <td>89</td>\n",
       "      <td>65</td>\n",
       "      <td>51</td>\n",
       "      <td>31</td>\n",
       "      <td>23</td>\n",
       "      <td>9</td>\n",
       "      <td>0</td>\n",
       "    </tr>\n",
       "    <tr>\n",
       "      <th>2</th>\n",
       "      <td>250</td>\n",
       "      <td>250</td>\n",
       "      <td>250</td>\n",
       "      <td>244</td>\n",
       "      <td>244</td>\n",
       "      <td>244</td>\n",
       "      <td>244</td>\n",
       "      <td>244</td>\n",
       "      <td>232</td>\n",
       "      <td>232</td>\n",
       "      <td>...</td>\n",
       "      <td>244</td>\n",
       "      <td>244</td>\n",
       "      <td>232</td>\n",
       "      <td>244</td>\n",
       "      <td>244</td>\n",
       "      <td>244</td>\n",
       "      <td>244</td>\n",
       "      <td>232</td>\n",
       "      <td>244</td>\n",
       "      <td>0</td>\n",
       "    </tr>\n",
       "    <tr>\n",
       "      <th>3</th>\n",
       "      <td>137</td>\n",
       "      <td>137</td>\n",
       "      <td>137</td>\n",
       "      <td>144</td>\n",
       "      <td>151</td>\n",
       "      <td>151</td>\n",
       "      <td>151</td>\n",
       "      <td>158</td>\n",
       "      <td>151</td>\n",
       "      <td>151</td>\n",
       "      <td>...</td>\n",
       "      <td>89</td>\n",
       "      <td>89</td>\n",
       "      <td>78</td>\n",
       "      <td>78</td>\n",
       "      <td>78</td>\n",
       "      <td>100</td>\n",
       "      <td>102</td>\n",
       "      <td>124</td>\n",
       "      <td>124</td>\n",
       "      <td>0</td>\n",
       "    </tr>\n",
       "    <tr>\n",
       "      <th>4</th>\n",
       "      <td>55</td>\n",
       "      <td>55</td>\n",
       "      <td>55</td>\n",
       "      <td>55</td>\n",
       "      <td>55</td>\n",
       "      <td>55</td>\n",
       "      <td>55</td>\n",
       "      <td>55</td>\n",
       "      <td>55</td>\n",
       "      <td>55</td>\n",
       "      <td>...</td>\n",
       "      <td>45</td>\n",
       "      <td>45</td>\n",
       "      <td>45</td>\n",
       "      <td>45</td>\n",
       "      <td>45</td>\n",
       "      <td>45</td>\n",
       "      <td>37</td>\n",
       "      <td>45</td>\n",
       "      <td>52</td>\n",
       "      <td>0</td>\n",
       "    </tr>\n",
       "    <tr>\n",
       "      <th>5</th>\n",
       "      <td>173</td>\n",
       "      <td>173</td>\n",
       "      <td>173</td>\n",
       "      <td>173</td>\n",
       "      <td>158</td>\n",
       "      <td>158</td>\n",
       "      <td>158</td>\n",
       "      <td>158</td>\n",
       "      <td>153</td>\n",
       "      <td>149</td>\n",
       "      <td>...</td>\n",
       "      <td>64</td>\n",
       "      <td>64</td>\n",
       "      <td>48</td>\n",
       "      <td>48</td>\n",
       "      <td>77</td>\n",
       "      <td>98</td>\n",
       "      <td>64</td>\n",
       "      <td>45</td>\n",
       "      <td>45</td>\n",
       "      <td>0</td>\n",
       "    </tr>\n",
       "  </tbody>\n",
       "</table>\n",
       "<p>5 rows × 4097 columns</p>\n",
       "</div>"
      ],
      "text/plain": [
       "    V1   V2   V3   V4   V5   V6   V7   V8   V9  V10  ...  V4088  V4089  V4090  \\\n",
       "1   23   23   20   20    9    9    9    4    4    4  ...    108    108    108   \n",
       "2  250  250  250  244  244  244  244  244  232  232  ...    244    244    232   \n",
       "3  137  137  137  144  151  151  151  158  151  151  ...     89     89     78   \n",
       "4   55   55   55   55   55   55   55   55   55   55  ...     45     45     45   \n",
       "5  173  173  173  173  158  158  158  158  153  149  ...     64     64     48   \n",
       "\n",
       "   V4091  V4092  V4093  V4094  V4095  V4096  label  \n",
       "1     89     65     51     31     23      9      0  \n",
       "2    244    244    244    244    232    244      0  \n",
       "3     78     78    100    102    124    124      0  \n",
       "4     45     45     45     37     45     52      0  \n",
       "5     48     77     98     64     45     45      0  \n",
       "\n",
       "[5 rows x 4097 columns]"
      ]
     },
     "execution_count": 117,
     "metadata": {},
     "output_type": "execute_result"
    }
   ],
   "source": [
    "df = pd.read_csv('catdogdata.txt', delimiter=' ')\n",
    "\n",
    "\n",
    "df['label'] = 0 # cats are the first 99 entries\n",
    "df.loc[99:198, 'label'] = 1 # dogs are the next 99 entries\n",
    "\n",
    "\n",
    "df.head()"
   ]
  },
  {
   "cell_type": "code",
   "execution_count": 118,
   "id": "e83447b6",
   "metadata": {},
   "outputs": [],
   "source": [
    "def plot_examples(df, n=10):\n",
    "    \"\"\"\n",
    "    Plot n examples from the dataset.\n",
    "    Assumes the last column is the label.\n",
    "    \"\"\"\n",
    "    indices = np.random.choice(df.index, n, replace=False)\n",
    "    df = df.loc[indices]\n",
    "    \n",
    "    fig, axes = plt.subplots(1, n, figsize=(2.5 * n, 3))\n",
    "    for i in range(n):\n",
    "        image = df.iloc[i, :-1].values.reshape((64, 64))\n",
    "        label = df.iloc[i, -1]\n",
    "        axes[i].imshow(image, cmap='gray')\n",
    "        axes[i].set_title(f\"Label: {label}\")\n",
    "        axes[i].axis('off')\n",
    "    plt.tight_layout()\n",
    "    plt.show()"
   ]
  },
  {
   "cell_type": "code",
   "execution_count": 119,
   "id": "f41214ee",
   "metadata": {},
   "outputs": [
    {
     "data": {
      "image/png": "[encoded data removed]",
      "text/plain": [
       "<Figure size 1250x300 with 5 Axes>"
      ]
     },
     "metadata": {},
     "output_type": "display_data"
    }
   ],
   "source": [
    "# plot example images\n",
    "plot_examples(df, n=5)"
   ]
  },
  {
   "cell_type": "code",
   "execution_count": 120,
   "id": "10b5dc04",
   "metadata": {},
   "outputs": [
    {
     "data": {
      "image/png": "[encoded data removed]",
      "text/plain": [
       "<Figure size 1250x300 with 5 Axes>"
      ]
     },
     "metadata": {},
     "output_type": "display_data"
    }
   ],
   "source": [
    "# Rotate all images 90 degrees clockwise\n",
    "def rotate_image(image):\n",
    "    return np.rot90(image.reshape(64, 64), -1).flatten()\n",
    "\n",
    "# Apply the rotation to all rows and update the DataFrame\n",
    "rotated_images = np.array([rotate_image(row.values) for _, row in df.iloc[:, :-1].iterrows()])\n",
    "df.iloc[:, :-1] = rotated_images\n",
    "\n",
    "# plot example images after rotation\n",
    "plot_examples(df, n=5)"
   ]
  },
  {
   "cell_type": "markdown",
   "id": "1689a422",
   "metadata": {},
   "source": [
    "### Fixing the models"
   ]
  },
  {
   "cell_type": "markdown",
   "id": "d09b51dc",
   "metadata": {},
   "source": [
    "#### CNN"
   ]
  },
  {
   "cell_type": "code",
   "execution_count": 121,
   "id": "3bc4adf1",
   "metadata": {},
   "outputs": [],
   "source": [
    "import torch\n",
    "import torch.nn as nn\n",
    "import torch.nn.functional as F\n",
    "import torch.optim as optim\n",
    "from torch.utils.data import DataLoader, Dataset\n",
    "from sklearn.model_selection import train_test_split\n",
    "\n",
    "# import pytorch lightning\n",
    "import pytorch_lightning as pl"
   ]
  },
  {
   "cell_type": "code",
   "execution_count": 122,
   "id": "d21b4e51",
   "metadata": {},
   "outputs": [],
   "source": [
    "class PixelLassoCNN(pl.LightningModule):\n",
    "    def __init__(self, l1_lambda=1e-2):\n",
    "        super().__init__()\n",
    "        self.input_mask = nn.Parameter(torch.ones(1, 1, 64, 64))  # same size as input\n",
    "\n",
    "        self.conv1 = nn.Conv2d(1, 32, kernel_size=3, padding=1)\n",
    "        self.conv2 = nn.Conv2d(32, 64, kernel_size=3, padding=1)\n",
    "        self.pool = nn.AdaptiveAvgPool2d((1, 1))\n",
    "        self.fc = nn.Linear(64, 2)\n",
    "\n",
    "        self.l1_lambda = l1_lambda\n",
    "\n",
    "    def forward(self, x):\n",
    "        x = x * self.input_mask  # Apply the learnable mask\n",
    "        x = F.relu(self.conv1(x))\n",
    "        x = F.relu(self.conv2(x))\n",
    "        x = self.pool(x).view(x.size(0), -1)\n",
    "        return self.fc(x)\n",
    "\n",
    "    def training_step(self, batch, batch_idx):\n",
    "        x, y = batch\n",
    "        logits = self(x)\n",
    "        ce_loss = F.cross_entropy(logits, y)\n",
    "\n",
    "        # L1 penalty on the input mask\n",
    "        l1_loss = self.l1_lambda * self.input_mask.abs().sum()\n",
    "        total_loss = ce_loss + l1_loss\n",
    "\n",
    "        self.log(\"train_loss\", total_loss)\n",
    "        return total_loss\n",
    "    \n",
    "    def test_step(self, batch, batch_idx):\n",
    "        x, y = batch\n",
    "        logits = self(x)\n",
    "        ce_loss = F.cross_entropy(logits, y)\n",
    "\n",
    "        # L1 penalty on the input mask\n",
    "        l1_loss = self.l1_lambda * self.input_mask.abs().sum()\n",
    "        total_loss = ce_loss + l1_loss\n",
    "        \n",
    "        total_accuracy = (logits.argmax(dim=1) == y).float().mean()\n",
    "\n",
    "        self.log(\"test_loss\", total_loss)\n",
    "        self.log(\"test_accuracy\", total_accuracy)\n",
    "        return total_loss, total_accuracy\n",
    "    \n",
    "    def validation_step(self, batch, batch_idx):\n",
    "        x, y = batch\n",
    "        logits = self(x)\n",
    "        ce_loss = F.cross_entropy(logits, y)\n",
    "\n",
    "        # L1 penalty on the input mask\n",
    "        l1_loss = self.l1_lambda * self.input_mask.abs().sum()\n",
    "        total_loss = ce_loss + l1_loss\n",
    "        \n",
    "        total_accuracy = (logits.argmax(dim=1) == y).float().mean()\n",
    "\n",
    "        self.log(\"val_loss\", total_loss)\n",
    "        self.log(\"val_accuracy\", total_accuracy)\n",
    "        return total_loss, total_accuracy\n",
    "    \n",
    "\n",
    "    def configure_optimizers(self):\n",
    "        return torch.optim.Adam(self.parameters(), lr=1e-3)\n"
   ]
  },
  {
   "cell_type": "code",
   "execution_count": 123,
   "id": "d74f866b",
   "metadata": {},
   "outputs": [
    {
     "name": "stdout",
     "output_type": "stream",
     "text": [
      "Train set size: 126\n",
      "Validation set size: 32\n",
      "Test set size: 40\n"
     ]
    }
   ],
   "source": [
    "# Load the data for training\n",
    "from sklearn.model_selection import train_test_split\n",
    "from sklearn.preprocessing import StandardScaler\n",
    "from torch.utils.data import DataLoader, TensorDataset\n",
    "\n",
    "# Split the data into features and labels\n",
    "\n",
    "X = df.iloc[:, :-1].values\n",
    "y = df.iloc[:, -1].values\n",
    "X = X.reshape(-1, 1, 64, 64)  # Reshape for CNN input\n",
    "\n",
    "# Split the data into training and validation sets\n",
    "X, X_test, y, y_test = train_test_split(X, y, test_size=0.2, random_state=42)\n",
    "X_train, X_val, y_train, y_val = train_test_split(X, y, test_size=0.2, random_state=42)\n",
    "\n",
    "# Convert to PyTorch tensors\n",
    "X_train_tensor = torch.tensor(X_train, dtype=torch.float32)\n",
    "X_val_tensor = torch.tensor(X_val, dtype=torch.float32)\n",
    "y_train_tensor = torch.tensor(y_train, dtype=torch.long)\n",
    "y_val_tensor = torch.tensor(y_val, dtype=torch.long)\n",
    "X_test_tensor = torch.tensor(X_test, dtype=torch.float32)\n",
    "y_test_tensor = torch.tensor(y_test, dtype=torch.long)\n",
    "\n",
    "# Create DataLoader\n",
    "train_dataset = TensorDataset(X_train_tensor, y_train_tensor)\n",
    "val_dataset = TensorDataset(X_val_tensor, y_val_tensor)\n",
    "test_dataset = TensorDataset(X_test_tensor, y_test_tensor)\n",
    "\n",
    "train_loader = DataLoader(train_dataset, batch_size=16, shuffle=True)\n",
    "val_loader = DataLoader(val_dataset, batch_size=16, shuffle=False)\n",
    "test_loader = DataLoader(test_dataset, batch_size=20, shuffle=False)\n",
    "\n",
    "print(f\"Train set size: {len(train_loader.dataset)}\")\n",
    "print(f\"Validation set size: {len(val_loader.dataset)}\")\n",
    "print(f\"Test set size: {len(test_loader.dataset)}\")"
   ]
  },
  {
   "cell_type": "code",
   "execution_count": 166,
   "id": "b91c9ff7",
   "metadata": {},
   "outputs": [],
   "source": [
    "# Initialize the model\n",
    "model = PixelLassoCNN()\n",
    "\n",
    "# Initialize the trainer\n",
    "trainer = pl.Trainer(\n",
    "    max_epochs=200,\n",
    "    accelerator=\"auto\",\n",
    ")"
   ]
  },
  {
   "cell_type": "code",
   "execution_count": 167,
   "id": "23b2b7c2",
   "metadata": {},
   "outputs": [
    {
     "data": {
      "application/vnd.jupyter.widget-view+json": {
       "model_id": "9d4ed5c06cef4055975400f735f9fbca",
       "version_major": 2,
       "version_minor": 0
      },
      "text/plain": [
       "Sanity Checking: |          | 0/? [00:00<?, ?it/s]"
      ]
     },
     "metadata": {},
     "output_type": "display_data"
    },
    {
     "data": {
      "application/vnd.jupyter.widget-view+json": {
       "model_id": "eb26e08f85d64354b8cdc45033f361d6",
       "version_major": 2,
       "version_minor": 0
      },
      "text/plain": [
       "Training: |          | 0/? [00:00<?, ?it/s]"
      ]
     },
     "metadata": {},
     "output_type": "display_data"
    },
    {
     "data": {
      "application/vnd.jupyter.widget-view+json": {
       "model_id": "5dba20ecd5ff4eb794d19875758f824c",
       "version_major": 2,
       "version_minor": 0
      },
      "text/plain": [
       "Validation: |          | 0/? [00:00<?, ?it/s]"
      ]
     },
     "metadata": {},
     "output_type": "display_data"
    },
    {
     "data": {
      "application/vnd.jupyter.widget-view+json": {
       "model_id": "1a713ab4d5f64ba8a475a049d9672017",
       "version_major": 2,
       "version_minor": 0
      },
      "text/plain": [
       "Validation: |          | 0/? [00:00<?, ?it/s]"
      ]
     },
     "metadata": {},
     "output_type": "display_data"
    },
    {
     "data": {
      "application/vnd.jupyter.widget-view+json": {
       "model_id": "aeb0518db8854a20b1314ccda4220d66",
       "version_major": 2,
       "version_minor": 0
      },
      "text/plain": [
       "Validation: |          | 0/? [00:00<?, ?it/s]"
      ]
     },
     "metadata": {},
     "output_type": "display_data"
    },
    {
     "data": {
      "application/vnd.jupyter.widget-view+json": {
       "model_id": "7cd3c63c52eb4877adfeed0e1c02a870",
       "version_major": 2,
       "version_minor": 0
      },
      "text/plain": [
       "Validation: |          | 0/? [00:00<?, ?it/s]"
      ]
     },
     "metadata": {},
     "output_type": "display_data"
    },
    {
     "data": {
      "application/vnd.jupyter.widget-view+json": {
       "model_id": "b11bd27cfaf442ed84abc06e94fb0bf2",
       "version_major": 2,
       "version_minor": 0
      },
      "text/plain": [
       "Validation: |          | 0/? [00:00<?, ?it/s]"
      ]
     },
     "metadata": {},
     "output_type": "display_data"
    },
    {
     "data": {
      "application/vnd.jupyter.widget-view+json": {
       "model_id": "345df385b34546119f644e6b7e2c4518",
       "version_major": 2,
       "version_minor": 0
      },
      "text/plain": [
       "Validation: |          | 0/? [00:00<?, ?it/s]"
      ]
     },
     "metadata": {},
     "output_type": "display_data"
    },
    {
     "data": {
      "application/vnd.jupyter.widget-view+json": {
       "model_id": "ce65ba93742f421e9cdd1908c0c35ffc",
       "version_major": 2,
       "version_minor": 0
      },
      "text/plain": [
       "Validation: |          | 0/? [00:00<?, ?it/s]"
      ]
     },
     "metadata": {},
     "output_type": "display_data"
    },
    {
     "data": {
      "application/vnd.jupyter.widget-view+json": {
       "model_id": "f004293a3d874a95baaf0841aa6b3745",
       "version_major": 2,
       "version_minor": 0
      },
      "text/plain": [
       "Validation: |          | 0/? [00:00<?, ?it/s]"
      ]
     },
     "metadata": {},
     "output_type": "display_data"
    },
    {
     "data": {
      "application/vnd.jupyter.widget-view+json": {
       "model_id": "067fbf69ef94492283a9f7f21fb85fd2",
       "version_major": 2,
       "version_minor": 0
      },
      "text/plain": [
       "Validation: |          | 0/? [00:00<?, ?it/s]"
      ]
     },
     "metadata": {},
     "output_type": "display_data"
    },
    {
     "data": {
      "application/vnd.jupyter.widget-view+json": {
       "model_id": "5611dba401984d998934694c8f3de6b6",
       "version_major": 2,
       "version_minor": 0
      },
      "text/plain": [
       "Validation: |          | 0/? [00:00<?, ?it/s]"
      ]
     },
     "metadata": {},
     "output_type": "display_data"
    },
    {
     "data": {
      "application/vnd.jupyter.widget-view+json": {
       "model_id": "a8cdb6c349244ae3b52fe8cc9e7c37c2",
       "version_major": 2,
       "version_minor": 0
      },
      "text/plain": [
       "Validation: |          | 0/? [00:00<?, ?it/s]"
      ]
     },
     "metadata": {},
     "output_type": "display_data"
    },
    {
     "data": {
      "application/vnd.jupyter.widget-view+json": {
       "model_id": "2de0e44f226c4ddab8ebd03ed44475b9",
       "version_major": 2,
       "version_minor": 0
      },
      "text/plain": [
       "Validation: |          | 0/? [00:00<?, ?it/s]"
      ]
     },
     "metadata": {},
     "output_type": "display_data"
    },
    {
     "data": {
      "application/vnd.jupyter.widget-view+json": {
       "model_id": "d115c5f5314b4afa8811b51124d4aa6e",
       "version_major": 2,
       "version_minor": 0
      },
      "text/plain": [
       "Validation: |          | 0/? [00:00<?, ?it/s]"
      ]
     },
     "metadata": {},
     "output_type": "display_data"
    },
    {
     "data": {
      "application/vnd.jupyter.widget-view+json": {
       "model_id": "3ec47e312aa74aa8b7839538e044a277",
       "version_major": 2,
       "version_minor": 0
      },
      "text/plain": [
       "Validation: |          | 0/? [00:00<?, ?it/s]"
      ]
     },
     "metadata": {},
     "output_type": "display_data"
    },
    {
     "data": {
      "application/vnd.jupyter.widget-view+json": {
       "model_id": "3d552a2fe1c4419dacfb6b0b2a374498",
       "version_major": 2,
       "version_minor": 0
      },
      "text/plain": [
       "Validation: |          | 0/? [00:00<?, ?it/s]"
      ]
     },
     "metadata": {},
     "output_type": "display_data"
    },
    {
     "data": {
      "application/vnd.jupyter.widget-view+json": {
       "model_id": "6784b3217fed4b4db31c13fbc1483e38",
       "version_major": 2,
       "version_minor": 0
      },
      "text/plain": [
       "Validation: |          | 0/? [00:00<?, ?it/s]"
      ]
     },
     "metadata": {},
     "output_type": "display_data"
    },
    {
     "data": {
      "application/vnd.jupyter.widget-view+json": {
       "model_id": "3f7a3163dfb44f2b95e002b565d48b0e",
       "version_major": 2,
       "version_minor": 0
      },
      "text/plain": [
       "Validation: |          | 0/? [00:00<?, ?it/s]"
      ]
     },
     "metadata": {},
     "output_type": "display_data"
    },
    {
     "data": {
      "application/vnd.jupyter.widget-view+json": {
       "model_id": "d31ae38767f243f9a67a285ccd79baf6",
       "version_major": 2,
       "version_minor": 0
      },
      "text/plain": [
       "Validation: |          | 0/? [00:00<?, ?it/s]"
      ]
     },
     "metadata": {},
     "output_type": "display_data"
    },
    {
     "data": {
      "application/vnd.jupyter.widget-view+json": {
       "model_id": "91b8e6f513704b45bc7c4c37acc84beb",
       "version_major": 2,
       "version_minor": 0
      },
      "text/plain": [
       "Validation: |          | 0/? [00:00<?, ?it/s]"
      ]
     },
     "metadata": {},
     "output_type": "display_data"
    },
    {
     "data": {
      "application/vnd.jupyter.widget-view+json": {
       "model_id": "9ad919274e0442388852cb8e909c8c04",
       "version_major": 2,
       "version_minor": 0
      },
      "text/plain": [
       "Validation: |          | 0/? [00:00<?, ?it/s]"
      ]
     },
     "metadata": {},
     "output_type": "display_data"
    },
    {
     "data": {
      "application/vnd.jupyter.widget-view+json": {
       "model_id": "7fefa0d72ddd48ac9acaf2c40d5011c8",
       "version_major": 2,
       "version_minor": 0
      },
      "text/plain": [
       "Validation: |          | 0/? [00:00<?, ?it/s]"
      ]
     },
     "metadata": {},
     "output_type": "display_data"
    },
    {
     "data": {
      "application/vnd.jupyter.widget-view+json": {
       "model_id": "12fd25028cf1467f9fd972c2ab358e55",
       "version_major": 2,
       "version_minor": 0
      },
      "text/plain": [
       "Validation: |          | 0/? [00:00<?, ?it/s]"
      ]
     },
     "metadata": {},
     "output_type": "display_data"
    },
    {
     "data": {
      "application/vnd.jupyter.widget-view+json": {
       "model_id": "cd0563ce79b24f6daed4912a3a0013d2",
       "version_major": 2,
       "version_minor": 0
      },
      "text/plain": [
       "Validation: |          | 0/? [00:00<?, ?it/s]"
      ]
     },
     "metadata": {},
     "output_type": "display_data"
    },
    {
     "data": {
      "application/vnd.jupyter.widget-view+json": {
       "model_id": "bc74a98d20cc43c89f444ab84dfd58f5",
       "version_major": 2,
       "version_minor": 0
      },
      "text/plain": [
       "Validation: |          | 0/? [00:00<?, ?it/s]"
      ]
     },
     "metadata": {},
     "output_type": "display_data"
    },
    {
     "data": {
      "application/vnd.jupyter.widget-view+json": {
       "model_id": "c967137d66314c8588e711e477bfc833",
       "version_major": 2,
       "version_minor": 0
      },
      "text/plain": [
       "Validation: |          | 0/? [00:00<?, ?it/s]"
      ]
     },
     "metadata": {},
     "output_type": "display_data"
    },
    {
     "data": {
      "application/vnd.jupyter.widget-view+json": {
       "model_id": "e61dea5079944c0bbd9c922e516cab65",
       "version_major": 2,
       "version_minor": 0
      },
      "text/plain": [
       "Validation: |          | 0/? [00:00<?, ?it/s]"
      ]
     },
     "metadata": {},
     "output_type": "display_data"
    },
    {
     "data": {
      "application/vnd.jupyter.widget-view+json": {
       "model_id": "77d7acc4187f4105b488479c1e671543",
       "version_major": 2,
       "version_minor": 0
      },
      "text/plain": [
       "Validation: |          | 0/? [00:00<?, ?it/s]"
      ]
     },
     "metadata": {},
     "output_type": "display_data"
    },
    {
     "data": {
      "application/vnd.jupyter.widget-view+json": {
       "model_id": "87cbd2365ee2497996b72b156046d933",
       "version_major": 2,
       "version_minor": 0
      },
      "text/plain": [
       "Validation: |          | 0/? [00:00<?, ?it/s]"
      ]
     },
     "metadata": {},
     "output_type": "display_data"
    },
    {
     "data": {
      "application/vnd.jupyter.widget-view+json": {
       "model_id": "70efbefa032d49a59fc8ad1f571b3f8e",
       "version_major": 2,
       "version_minor": 0
      },
      "text/plain": [
       "Validation: |          | 0/? [00:00<?, ?it/s]"
      ]
     },
     "metadata": {},
     "output_type": "display_data"
    },
    {
     "data": {
      "application/vnd.jupyter.widget-view+json": {
       "model_id": "49a25c64908040f09f245dca170d8fdb",
       "version_major": 2,
       "version_minor": 0
      },
      "text/plain": [
       "Validation: |          | 0/? [00:00<?, ?it/s]"
      ]
     },
     "metadata": {},
     "output_type": "display_data"
    },
    {
     "data": {
      "application/vnd.jupyter.widget-view+json": {
       "model_id": "1e599abe64544eb3accc2d13219edc15",
       "version_major": 2,
       "version_minor": 0
      },
      "text/plain": [
       "Validation: |          | 0/? [00:00<?, ?it/s]"
      ]
     },
     "metadata": {},
     "output_type": "display_data"
    },
    {
     "data": {
      "application/vnd.jupyter.widget-view+json": {
       "model_id": "35c741ab7b4c4e059bc4c6fb7350f55d",
       "version_major": 2,
       "version_minor": 0
      },
      "text/plain": [
       "Validation: |          | 0/? [00:00<?, ?it/s]"
      ]
     },
     "metadata": {},
     "output_type": "display_data"
    },
    {
     "data": {
      "application/vnd.jupyter.widget-view+json": {
       "model_id": "1b4abd3460b7453aafff26aa07daeb00",
       "version_major": 2,
       "version_minor": 0
      },
      "text/plain": [
       "Validation: |          | 0/? [00:00<?, ?it/s]"
      ]
     },
     "metadata": {},
     "output_type": "display_data"
    },
    {
     "data": {
      "application/vnd.jupyter.widget-view+json": {
       "model_id": "e25756833a244429b23e68b698380e2f",
       "version_major": 2,
       "version_minor": 0
      },
      "text/plain": [
       "Validation: |          | 0/? [00:00<?, ?it/s]"
      ]
     },
     "metadata": {},
     "output_type": "display_data"
    },
    {
     "data": {
      "application/vnd.jupyter.widget-view+json": {
       "model_id": "cd8467c8f0c14d23915935174f42d3eb",
       "version_major": 2,
       "version_minor": 0
      },
      "text/plain": [
       "Validation: |          | 0/? [00:00<?, ?it/s]"
      ]
     },
     "metadata": {},
     "output_type": "display_data"
    },
    {
     "data": {
      "application/vnd.jupyter.widget-view+json": {
       "model_id": "767acde7a8c64de39a01c53acb1bd313",
       "version_major": 2,
       "version_minor": 0
      },
      "text/plain": [
       "Validation: |          | 0/? [00:00<?, ?it/s]"
      ]
     },
     "metadata": {},
     "output_type": "display_data"
    },
    {
     "data": {
      "application/vnd.jupyter.widget-view+json": {
       "model_id": "aebfdb22cf054b438c0c01198b373682",
       "version_major": 2,
       "version_minor": 0
      },
      "text/plain": [
       "Validation: |          | 0/? [00:00<?, ?it/s]"
      ]
     },
     "metadata": {},
     "output_type": "display_data"
    },
    {
     "data": {
      "application/vnd.jupyter.widget-view+json": {
       "model_id": "806ae4e5f4134386b79b1fb081e5ba5a",
       "version_major": 2,
       "version_minor": 0
      },
      "text/plain": [
       "Validation: |          | 0/? [00:00<?, ?it/s]"
      ]
     },
     "metadata": {},
     "output_type": "display_data"
    },
    {
     "data": {
      "application/vnd.jupyter.widget-view+json": {
       "model_id": "f9921b68f4794ce98e078d589d853822",
       "version_major": 2,
       "version_minor": 0
      },
      "text/plain": [
       "Validation: |          | 0/? [00:00<?, ?it/s]"
      ]
     },
     "metadata": {},
     "output_type": "display_data"
    },
    {
     "data": {
      "application/vnd.jupyter.widget-view+json": {
       "model_id": "cdd82723689d4683b14963d4f2703a87",
       "version_major": 2,
       "version_minor": 0
      },
      "text/plain": [
       "Validation: |          | 0/? [00:00<?, ?it/s]"
      ]
     },
     "metadata": {},
     "output_type": "display_data"
    },
    {
     "data": {
      "application/vnd.jupyter.widget-view+json": {
       "model_id": "6310c981d3c24334a3ec8e321355c2ac",
       "version_major": 2,
       "version_minor": 0
      },
      "text/plain": [
       "Validation: |          | 0/? [00:00<?, ?it/s]"
      ]
     },
     "metadata": {},
     "output_type": "display_data"
    },
    {
     "data": {
      "application/vnd.jupyter.widget-view+json": {
       "model_id": "047098e324584edd9a68d7bfadf5d793",
       "version_major": 2,
       "version_minor": 0
      },
      "text/plain": [
       "Validation: |          | 0/? [00:00<?, ?it/s]"
      ]
     },
     "metadata": {},
     "output_type": "display_data"
    },
    {
     "data": {
      "application/vnd.jupyter.widget-view+json": {
       "model_id": "856db0f0103444dd986d862116af7dff",
       "version_major": 2,
       "version_minor": 0
      },
      "text/plain": [
       "Validation: |          | 0/? [00:00<?, ?it/s]"
      ]
     },
     "metadata": {},
     "output_type": "display_data"
    },
    {
     "data": {
      "application/vnd.jupyter.widget-view+json": {
       "model_id": "2985098b3d5d4160a61cdf306d50f65d",
       "version_major": 2,
       "version_minor": 0
      },
      "text/plain": [
       "Validation: |          | 0/? [00:00<?, ?it/s]"
      ]
     },
     "metadata": {},
     "output_type": "display_data"
    },
    {
     "data": {
      "application/vnd.jupyter.widget-view+json": {
       "model_id": "bb7dda306a2b4fefb0d3062051bbde17",
       "version_major": 2,
       "version_minor": 0
      },
      "text/plain": [
       "Validation: |          | 0/? [00:00<?, ?it/s]"
      ]
     },
     "metadata": {},
     "output_type": "display_data"
    },
    {
     "data": {
      "application/vnd.jupyter.widget-view+json": {
       "model_id": "e85ee538b633450894219b3449d4f7be",
       "version_major": 2,
       "version_minor": 0
      },
      "text/plain": [
       "Validation: |          | 0/? [00:00<?, ?it/s]"
      ]
     },
     "metadata": {},
     "output_type": "display_data"
    },
    {
     "data": {
      "application/vnd.jupyter.widget-view+json": {
       "model_id": "f85dd64a8d1b4af0ac844c8a498ad24b",
       "version_major": 2,
       "version_minor": 0
      },
      "text/plain": [
       "Validation: |          | 0/? [00:00<?, ?it/s]"
      ]
     },
     "metadata": {},
     "output_type": "display_data"
    },
    {
     "data": {
      "application/vnd.jupyter.widget-view+json": {
       "model_id": "451417e4fc0f49f08018b189d7a11f18",
       "version_major": 2,
       "version_minor": 0
      },
      "text/plain": [
       "Validation: |          | 0/? [00:00<?, ?it/s]"
      ]
     },
     "metadata": {},
     "output_type": "display_data"
    },
    {
     "data": {
      "application/vnd.jupyter.widget-view+json": {
       "model_id": "d0e6753c643d4a72a09e3e04b4f3ce4e",
       "version_major": 2,
       "version_minor": 0
      },
      "text/plain": [
       "Validation: |          | 0/? [00:00<?, ?it/s]"
      ]
     },
     "metadata": {},
     "output_type": "display_data"
    },
    {
     "data": {
      "application/vnd.jupyter.widget-view+json": {
       "model_id": "3998b6795c754dfa9c4fca2528ced5fa",
       "version_major": 2,
       "version_minor": 0
      },
      "text/plain": [
       "Validation: |          | 0/? [00:00<?, ?it/s]"
      ]
     },
     "metadata": {},
     "output_type": "display_data"
    },
    {
     "data": {
      "application/vnd.jupyter.widget-view+json": {
       "model_id": "7187c9975e6449ed93c3e4417d6c6b12",
       "version_major": 2,
       "version_minor": 0
      },
      "text/plain": [
       "Validation: |          | 0/? [00:00<?, ?it/s]"
      ]
     },
     "metadata": {},
     "output_type": "display_data"
    },
    {
     "data": {
      "application/vnd.jupyter.widget-view+json": {
       "model_id": "4dc17f368f0c4bceaeaba61c51247140",
       "version_major": 2,
       "version_minor": 0
      },
      "text/plain": [
       "Validation: |          | 0/? [00:00<?, ?it/s]"
      ]
     },
     "metadata": {},
     "output_type": "display_data"
    },
    {
     "data": {
      "application/vnd.jupyter.widget-view+json": {
       "model_id": "9d4725f25cf0435daef9b7eb689e0e43",
       "version_major": 2,
       "version_minor": 0
      },
      "text/plain": [
       "Validation: |          | 0/? [00:00<?, ?it/s]"
      ]
     },
     "metadata": {},
     "output_type": "display_data"
    },
    {
     "data": {
      "application/vnd.jupyter.widget-view+json": {
       "model_id": "7db554669f93499a823b75296dd47522",
       "version_major": 2,
       "version_minor": 0
      },
      "text/plain": [
       "Validation: |          | 0/? [00:00<?, ?it/s]"
      ]
     },
     "metadata": {},
     "output_type": "display_data"
    },
    {
     "data": {
      "application/vnd.jupyter.widget-view+json": {
       "model_id": "418ae7387e12499faaf1a0664810b435",
       "version_major": 2,
       "version_minor": 0
      },
      "text/plain": [
       "Validation: |          | 0/? [00:00<?, ?it/s]"
      ]
     },
     "metadata": {},
     "output_type": "display_data"
    },
    {
     "data": {
      "application/vnd.jupyter.widget-view+json": {
       "model_id": "4e7602cf974744be8f6665799590fd6c",
       "version_major": 2,
       "version_minor": 0
      },
      "text/plain": [
       "Validation: |          | 0/? [00:00<?, ?it/s]"
      ]
     },
     "metadata": {},
     "output_type": "display_data"
    },
    {
     "data": {
      "application/vnd.jupyter.widget-view+json": {
       "model_id": "de9f95af7de54c61820d1234c0223784",
       "version_major": 2,
       "version_minor": 0
      },
      "text/plain": [
       "Validation: |          | 0/? [00:00<?, ?it/s]"
      ]
     },
     "metadata": {},
     "output_type": "display_data"
    },
    {
     "data": {
      "application/vnd.jupyter.widget-view+json": {
       "model_id": "529e167478c9490fad3b1cc7fae00c71",
       "version_major": 2,
       "version_minor": 0
      },
      "text/plain": [
       "Validation: |          | 0/? [00:00<?, ?it/s]"
      ]
     },
     "metadata": {},
     "output_type": "display_data"
    },
    {
     "data": {
      "application/vnd.jupyter.widget-view+json": {
       "model_id": "3e0bd0f5560b443790ce90f71b51b46d",
       "version_major": 2,
       "version_minor": 0
      },
      "text/plain": [
       "Validation: |          | 0/? [00:00<?, ?it/s]"
      ]
     },
     "metadata": {},
     "output_type": "display_data"
    },
    {
     "data": {
      "application/vnd.jupyter.widget-view+json": {
       "model_id": "d274093efd0a4e80bec02ffe0d019dfe",
       "version_major": 2,
       "version_minor": 0
      },
      "text/plain": [
       "Validation: |          | 0/? [00:00<?, ?it/s]"
      ]
     },
     "metadata": {},
     "output_type": "display_data"
    },
    {
     "data": {
      "application/vnd.jupyter.widget-view+json": {
       "model_id": "ab7e22923e5c49cebf5375d8b143f7ac",
       "version_major": 2,
       "version_minor": 0
      },
      "text/plain": [
       "Validation: |          | 0/? [00:00<?, ?it/s]"
      ]
     },
     "metadata": {},
     "output_type": "display_data"
    },
    {
     "data": {
      "application/vnd.jupyter.widget-view+json": {
       "model_id": "d70447f67aba4206a05d819719969bf0",
       "version_major": 2,
       "version_minor": 0
      },
      "text/plain": [
       "Validation: |          | 0/? [00:00<?, ?it/s]"
      ]
     },
     "metadata": {},
     "output_type": "display_data"
    },
    {
     "data": {
      "application/vnd.jupyter.widget-view+json": {
       "model_id": "c5cb09376d214679a6336b6301c7ba72",
       "version_major": 2,
       "version_minor": 0
      },
      "text/plain": [
       "Validation: |          | 0/? [00:00<?, ?it/s]"
      ]
     },
     "metadata": {},
     "output_type": "display_data"
    },
    {
     "data": {
      "application/vnd.jupyter.widget-view+json": {
       "model_id": "16e4bb33d9b3436480ed9d2975d548ed",
       "version_major": 2,
       "version_minor": 0
      },
      "text/plain": [
       "Validation: |          | 0/? [00:00<?, ?it/s]"
      ]
     },
     "metadata": {},
     "output_type": "display_data"
    },
    {
     "data": {
      "application/vnd.jupyter.widget-view+json": {
       "model_id": "5a9437ec853a40d6842d441c13f7051f",
       "version_major": 2,
       "version_minor": 0
      },
      "text/plain": [
       "Validation: |          | 0/? [00:00<?, ?it/s]"
      ]
     },
     "metadata": {},
     "output_type": "display_data"
    },
    {
     "data": {
      "application/vnd.jupyter.widget-view+json": {
       "model_id": "41c80c6cadd04acfa3bf5747e21638f3",
       "version_major": 2,
       "version_minor": 0
      },
      "text/plain": [
       "Validation: |          | 0/? [00:00<?, ?it/s]"
      ]
     },
     "metadata": {},
     "output_type": "display_data"
    },
    {
     "data": {
      "application/vnd.jupyter.widget-view+json": {
       "model_id": "c9d46aad6f8d4b8892411c5cc49d992a",
       "version_major": 2,
       "version_minor": 0
      },
      "text/plain": [
       "Validation: |          | 0/? [00:00<?, ?it/s]"
      ]
     },
     "metadata": {},
     "output_type": "display_data"
    },
    {
     "data": {
      "application/vnd.jupyter.widget-view+json": {
       "model_id": "0e425a1b445848479c90d59a77b63234",
       "version_major": 2,
       "version_minor": 0
      },
      "text/plain": [
       "Validation: |          | 0/? [00:00<?, ?it/s]"
      ]
     },
     "metadata": {},
     "output_type": "display_data"
    },
    {
     "data": {
      "application/vnd.jupyter.widget-view+json": {
       "model_id": "7d9c2e6470d145f7b6b67b2c5a5364f7",
       "version_major": 2,
       "version_minor": 0
      },
      "text/plain": [
       "Validation: |          | 0/? [00:00<?, ?it/s]"
      ]
     },
     "metadata": {},
     "output_type": "display_data"
    },
    {
     "data": {
      "application/vnd.jupyter.widget-view+json": {
       "model_id": "fc0d10c7fe214b018c44532abb042d82",
       "version_major": 2,
       "version_minor": 0
      },
      "text/plain": [
       "Validation: |          | 0/? [00:00<?, ?it/s]"
      ]
     },
     "metadata": {},
     "output_type": "display_data"
    },
    {
     "data": {
      "application/vnd.jupyter.widget-view+json": {
       "model_id": "430a6e26ea224eda904f397d692680f6",
       "version_major": 2,
       "version_minor": 0
      },
      "text/plain": [
       "Validation: |          | 0/? [00:00<?, ?it/s]"
      ]
     },
     "metadata": {},
     "output_type": "display_data"
    },
    {
     "data": {
      "application/vnd.jupyter.widget-view+json": {
       "model_id": "6b32f04998b642b58555902e60c94399",
       "version_major": 2,
       "version_minor": 0
      },
      "text/plain": [
       "Validation: |          | 0/? [00:00<?, ?it/s]"
      ]
     },
     "metadata": {},
     "output_type": "display_data"
    },
    {
     "data": {
      "application/vnd.jupyter.widget-view+json": {
       "model_id": "67bee2760fcd48119f142b22f460a788",
       "version_major": 2,
       "version_minor": 0
      },
      "text/plain": [
       "Validation: |          | 0/? [00:00<?, ?it/s]"
      ]
     },
     "metadata": {},
     "output_type": "display_data"
    },
    {
     "data": {
      "application/vnd.jupyter.widget-view+json": {
       "model_id": "955e05816cf54e50a2594a3c3611c2cb",
       "version_major": 2,
       "version_minor": 0
      },
      "text/plain": [
       "Validation: |          | 0/? [00:00<?, ?it/s]"
      ]
     },
     "metadata": {},
     "output_type": "display_data"
    },
    {
     "data": {
      "application/vnd.jupyter.widget-view+json": {
       "model_id": "2cbc13ddaa3142cea34cfea3b87f73f9",
       "version_major": 2,
       "version_minor": 0
      },
      "text/plain": [
       "Validation: |          | 0/? [00:00<?, ?it/s]"
      ]
     },
     "metadata": {},
     "output_type": "display_data"
    },
    {
     "data": {
      "application/vnd.jupyter.widget-view+json": {
       "model_id": "bd84a3c946d84124a6d558b1a962e085",
       "version_major": 2,
       "version_minor": 0
      },
      "text/plain": [
       "Validation: |          | 0/? [00:00<?, ?it/s]"
      ]
     },
     "metadata": {},
     "output_type": "display_data"
    },
    {
     "data": {
      "application/vnd.jupyter.widget-view+json": {
       "model_id": "5d737f3f8da74d10ad9b9f0d0cd18203",
       "version_major": 2,
       "version_minor": 0
      },
      "text/plain": [
       "Validation: |          | 0/? [00:00<?, ?it/s]"
      ]
     },
     "metadata": {},
     "output_type": "display_data"
    },
    {
     "data": {
      "application/vnd.jupyter.widget-view+json": {
       "model_id": "3dd9156ca0114492884edf4fb6f6acb4",
       "version_major": 2,
       "version_minor": 0
      },
      "text/plain": [
       "Validation: |          | 0/? [00:00<?, ?it/s]"
      ]
     },
     "metadata": {},
     "output_type": "display_data"
    },
    {
     "data": {
      "application/vnd.jupyter.widget-view+json": {
       "model_id": "113d986077454fb9bd77f5fd4b389d2b",
       "version_major": 2,
       "version_minor": 0
      },
      "text/plain": [
       "Validation: |          | 0/? [00:00<?, ?it/s]"
      ]
     },
     "metadata": {},
     "output_type": "display_data"
    },
    {
     "data": {
      "application/vnd.jupyter.widget-view+json": {
       "model_id": "7d4eef1a4b27414c80a7af7e7cbbc02b",
       "version_major": 2,
       "version_minor": 0
      },
      "text/plain": [
       "Validation: |          | 0/? [00:00<?, ?it/s]"
      ]
     },
     "metadata": {},
     "output_type": "display_data"
    },
    {
     "data": {
      "application/vnd.jupyter.widget-view+json": {
       "model_id": "034219290db5427b8c3ed8a84e42196e",
       "version_major": 2,
       "version_minor": 0
      },
      "text/plain": [
       "Validation: |          | 0/? [00:00<?, ?it/s]"
      ]
     },
     "metadata": {},
     "output_type": "display_data"
    },
    {
     "data": {
      "application/vnd.jupyter.widget-view+json": {
       "model_id": "9c210898294e4a2c842a26bb11d7dff4",
       "version_major": 2,
       "version_minor": 0
      },
      "text/plain": [
       "Validation: |          | 0/? [00:00<?, ?it/s]"
      ]
     },
     "metadata": {},
     "output_type": "display_data"
    },
    {
     "data": {
      "application/vnd.jupyter.widget-view+json": {
       "model_id": "0f38c7551635411f814e0f560756d5ad",
       "version_major": 2,
       "version_minor": 0
      },
      "text/plain": [
       "Validation: |          | 0/? [00:00<?, ?it/s]"
      ]
     },
     "metadata": {},
     "output_type": "display_data"
    },
    {
     "data": {
      "application/vnd.jupyter.widget-view+json": {
       "model_id": "943fa513320e49939cb337c172649dce",
       "version_major": 2,
       "version_minor": 0
      },
      "text/plain": [
       "Validation: |          | 0/? [00:00<?, ?it/s]"
      ]
     },
     "metadata": {},
     "output_type": "display_data"
    },
    {
     "data": {
      "application/vnd.jupyter.widget-view+json": {
       "model_id": "5496f74324f94e8b8f6a6331bd710b0a",
       "version_major": 2,
       "version_minor": 0
      },
      "text/plain": [
       "Validation: |          | 0/? [00:00<?, ?it/s]"
      ]
     },
     "metadata": {},
     "output_type": "display_data"
    },
    {
     "data": {
      "application/vnd.jupyter.widget-view+json": {
       "model_id": "6a82ab91cd3e4dc0a882d6d5868fcae3",
       "version_major": 2,
       "version_minor": 0
      },
      "text/plain": [
       "Validation: |          | 0/? [00:00<?, ?it/s]"
      ]
     },
     "metadata": {},
     "output_type": "display_data"
    },
    {
     "data": {
      "application/vnd.jupyter.widget-view+json": {
       "model_id": "ccf123394d164549a49afdeb8bd8818e",
       "version_major": 2,
       "version_minor": 0
      },
      "text/plain": [
       "Validation: |          | 0/? [00:00<?, ?it/s]"
      ]
     },
     "metadata": {},
     "output_type": "display_data"
    },
    {
     "data": {
      "application/vnd.jupyter.widget-view+json": {
       "model_id": "ce6b632123944a3780c1bb807bca97ae",
       "version_major": 2,
       "version_minor": 0
      },
      "text/plain": [
       "Validation: |          | 0/? [00:00<?, ?it/s]"
      ]
     },
     "metadata": {},
     "output_type": "display_data"
    },
    {
     "data": {
      "application/vnd.jupyter.widget-view+json": {
       "model_id": "95e49a3b5f1248088c8ab1fff1170fcd",
       "version_major": 2,
       "version_minor": 0
      },
      "text/plain": [
       "Validation: |          | 0/? [00:00<?, ?it/s]"
      ]
     },
     "metadata": {},
     "output_type": "display_data"
    },
    {
     "data": {
      "application/vnd.jupyter.widget-view+json": {
       "model_id": "1183c9e28dc44084b5a24872a3080c51",
       "version_major": 2,
       "version_minor": 0
      },
      "text/plain": [
       "Validation: |          | 0/? [00:00<?, ?it/s]"
      ]
     },
     "metadata": {},
     "output_type": "display_data"
    },
    {
     "data": {
      "application/vnd.jupyter.widget-view+json": {
       "model_id": "84cc4c733b454a499e6c06f2455fff1f",
       "version_major": 2,
       "version_minor": 0
      },
      "text/plain": [
       "Validation: |          | 0/? [00:00<?, ?it/s]"
      ]
     },
     "metadata": {},
     "output_type": "display_data"
    },
    {
     "data": {
      "application/vnd.jupyter.widget-view+json": {
       "model_id": "aabefd2a54c34325b1c42036580f21ae",
       "version_major": 2,
       "version_minor": 0
      },
      "text/plain": [
       "Validation: |          | 0/? [00:00<?, ?it/s]"
      ]
     },
     "metadata": {},
     "output_type": "display_data"
    },
    {
     "data": {
      "application/vnd.jupyter.widget-view+json": {
       "model_id": "6a3246715a9f4f6f91091cdabdf4ce30",
       "version_major": 2,
       "version_minor": 0
      },
      "text/plain": [
       "Validation: |          | 0/? [00:00<?, ?it/s]"
      ]
     },
     "metadata": {},
     "output_type": "display_data"
    },
    {
     "data": {
      "application/vnd.jupyter.widget-view+json": {
       "model_id": "e2be7d32a29f40adb450a0cc6a90c665",
       "version_major": 2,
       "version_minor": 0
      },
      "text/plain": [
       "Validation: |          | 0/? [00:00<?, ?it/s]"
      ]
     },
     "metadata": {},
     "output_type": "display_data"
    },
    {
     "data": {
      "application/vnd.jupyter.widget-view+json": {
       "model_id": "bbdb34420c854e04a55015962a2793be",
       "version_major": 2,
       "version_minor": 0
      },
      "text/plain": [
       "Validation: |          | 0/? [00:00<?, ?it/s]"
      ]
     },
     "metadata": {},
     "output_type": "display_data"
    },
    {
     "data": {
      "application/vnd.jupyter.widget-view+json": {
       "model_id": "8a2e444f8a784bc0a045a9d8dee2fad0",
       "version_major": 2,
       "version_minor": 0
      },
      "text/plain": [
       "Validation: |          | 0/? [00:00<?, ?it/s]"
      ]
     },
     "metadata": {},
     "output_type": "display_data"
    },
    {
     "data": {
      "application/vnd.jupyter.widget-view+json": {
       "model_id": "15c84c14f9fd46e4bf7bd20f7e652c7d",
       "version_major": 2,
       "version_minor": 0
      },
      "text/plain": [
       "Validation: |          | 0/? [00:00<?, ?it/s]"
      ]
     },
     "metadata": {},
     "output_type": "display_data"
    },
    {
     "data": {
      "application/vnd.jupyter.widget-view+json": {
       "model_id": "856659545cf747c7b3f7cdb8fbbe91fa",
       "version_major": 2,
       "version_minor": 0
      },
      "text/plain": [
       "Validation: |          | 0/? [00:00<?, ?it/s]"
      ]
     },
     "metadata": {},
     "output_type": "display_data"
    },
    {
     "data": {
      "application/vnd.jupyter.widget-view+json": {
       "model_id": "35307d011bb840b390cc8e84ad981ebf",
       "version_major": 2,
       "version_minor": 0
      },
      "text/plain": [
       "Validation: |          | 0/? [00:00<?, ?it/s]"
      ]
     },
     "metadata": {},
     "output_type": "display_data"
    },
    {
     "data": {
      "application/vnd.jupyter.widget-view+json": {
       "model_id": "682d130b55a747098107620210588022",
       "version_major": 2,
       "version_minor": 0
      },
      "text/plain": [
       "Validation: |          | 0/? [00:00<?, ?it/s]"
      ]
     },
     "metadata": {},
     "output_type": "display_data"
    },
    {
     "data": {
      "application/vnd.jupyter.widget-view+json": {
       "model_id": "263047df71c6492fad9e1791780d6742",
       "version_major": 2,
       "version_minor": 0
      },
      "text/plain": [
       "Validation: |          | 0/? [00:00<?, ?it/s]"
      ]
     },
     "metadata": {},
     "output_type": "display_data"
    },
    {
     "data": {
      "application/vnd.jupyter.widget-view+json": {
       "model_id": "fedc78cf625a4d0089e04faa6370120f",
       "version_major": 2,
       "version_minor": 0
      },
      "text/plain": [
       "Validation: |          | 0/? [00:00<?, ?it/s]"
      ]
     },
     "metadata": {},
     "output_type": "display_data"
    },
    {
     "data": {
      "application/vnd.jupyter.widget-view+json": {
       "model_id": "90662cc752ac474b9115983ddbcfae8d",
       "version_major": 2,
       "version_minor": 0
      },
      "text/plain": [
       "Validation: |          | 0/? [00:00<?, ?it/s]"
      ]
     },
     "metadata": {},
     "output_type": "display_data"
    },
    {
     "data": {
      "application/vnd.jupyter.widget-view+json": {
       "model_id": "2918df24e43e41ccae05f362ccde9133",
       "version_major": 2,
       "version_minor": 0
      },
      "text/plain": [
       "Validation: |          | 0/? [00:00<?, ?it/s]"
      ]
     },
     "metadata": {},
     "output_type": "display_data"
    },
    {
     "data": {
      "application/vnd.jupyter.widget-view+json": {
       "model_id": "d3c9042fd73a4d47a85fc69748defc5f",
       "version_major": 2,
       "version_minor": 0
      },
      "text/plain": [
       "Validation: |          | 0/? [00:00<?, ?it/s]"
      ]
     },
     "metadata": {},
     "output_type": "display_data"
    },
    {
     "data": {
      "application/vnd.jupyter.widget-view+json": {
       "model_id": "4e54ff3d70444468a947e2b30289e467",
       "version_major": 2,
       "version_minor": 0
      },
      "text/plain": [
       "Validation: |          | 0/? [00:00<?, ?it/s]"
      ]
     },
     "metadata": {},
     "output_type": "display_data"
    },
    {
     "data": {
      "application/vnd.jupyter.widget-view+json": {
       "model_id": "b5decc95f21c4e029dfac5468b60e211",
       "version_major": 2,
       "version_minor": 0
      },
      "text/plain": [
       "Validation: |          | 0/? [00:00<?, ?it/s]"
      ]
     },
     "metadata": {},
     "output_type": "display_data"
    },
    {
     "data": {
      "application/vnd.jupyter.widget-view+json": {
       "model_id": "dd77dc490ba041f3a7ed4dd5b5209f53",
       "version_major": 2,
       "version_minor": 0
      },
      "text/plain": [
       "Validation: |          | 0/? [00:00<?, ?it/s]"
      ]
     },
     "metadata": {},
     "output_type": "display_data"
    },
    {
     "data": {
      "application/vnd.jupyter.widget-view+json": {
       "model_id": "caefb858359e4923a80e457176c1f770",
       "version_major": 2,
       "version_minor": 0
      },
      "text/plain": [
       "Validation: |          | 0/? [00:00<?, ?it/s]"
      ]
     },
     "metadata": {},
     "output_type": "display_data"
    },
    {
     "data": {
      "application/vnd.jupyter.widget-view+json": {
       "model_id": "ee4032e21bbb441e9396c6524e265954",
       "version_major": 2,
       "version_minor": 0
      },
      "text/plain": [
       "Validation: |          | 0/? [00:00<?, ?it/s]"
      ]
     },
     "metadata": {},
     "output_type": "display_data"
    },
    {
     "data": {
      "application/vnd.jupyter.widget-view+json": {
       "model_id": "b143fa2c67c04571a14cb4841d85c975",
       "version_major": 2,
       "version_minor": 0
      },
      "text/plain": [
       "Validation: |          | 0/? [00:00<?, ?it/s]"
      ]
     },
     "metadata": {},
     "output_type": "display_data"
    },
    {
     "data": {
      "application/vnd.jupyter.widget-view+json": {
       "model_id": "bdc1b4f2c514421e9ba88449b782d3aa",
       "version_major": 2,
       "version_minor": 0
      },
      "text/plain": [
       "Validation: |          | 0/? [00:00<?, ?it/s]"
      ]
     },
     "metadata": {},
     "output_type": "display_data"
    },
    {
     "data": {
      "application/vnd.jupyter.widget-view+json": {
       "model_id": "0f6d1b2064444dc88c1eb2ba37d9e4b1",
       "version_major": 2,
       "version_minor": 0
      },
      "text/plain": [
       "Validation: |          | 0/? [00:00<?, ?it/s]"
      ]
     },
     "metadata": {},
     "output_type": "display_data"
    },
    {
     "data": {
      "application/vnd.jupyter.widget-view+json": {
       "model_id": "54530e2915a24d5ca99c81ad2e8c165f",
       "version_major": 2,
       "version_minor": 0
      },
      "text/plain": [
       "Validation: |          | 0/? [00:00<?, ?it/s]"
      ]
     },
     "metadata": {},
     "output_type": "display_data"
    },
    {
     "data": {
      "application/vnd.jupyter.widget-view+json": {
       "model_id": "0e4a23f0a6f64b2eaf695c81e8a18db7",
       "version_major": 2,
       "version_minor": 0
      },
      "text/plain": [
       "Validation: |          | 0/? [00:00<?, ?it/s]"
      ]
     },
     "metadata": {},
     "output_type": "display_data"
    },
    {
     "data": {
      "application/vnd.jupyter.widget-view+json": {
       "model_id": "8dbde8b1f8ab4c23a67581d8aa59f07c",
       "version_major": 2,
       "version_minor": 0
      },
      "text/plain": [
       "Validation: |          | 0/? [00:00<?, ?it/s]"
      ]
     },
     "metadata": {},
     "output_type": "display_data"
    },
    {
     "data": {
      "application/vnd.jupyter.widget-view+json": {
       "model_id": "b973edb1cda04050b069cca1b1a74e7b",
       "version_major": 2,
       "version_minor": 0
      },
      "text/plain": [
       "Validation: |          | 0/? [00:00<?, ?it/s]"
      ]
     },
     "metadata": {},
     "output_type": "display_data"
    },
    {
     "data": {
      "application/vnd.jupyter.widget-view+json": {
       "model_id": "57582a86ad334863a0f795d6c8f92483",
       "version_major": 2,
       "version_minor": 0
      },
      "text/plain": [
       "Validation: |          | 0/? [00:00<?, ?it/s]"
      ]
     },
     "metadata": {},
     "output_type": "display_data"
    },
    {
     "data": {
      "application/vnd.jupyter.widget-view+json": {
       "model_id": "e4939fbed9d149c4ab064ef829125a1e",
       "version_major": 2,
       "version_minor": 0
      },
      "text/plain": [
       "Validation: |          | 0/? [00:00<?, ?it/s]"
      ]
     },
     "metadata": {},
     "output_type": "display_data"
    },
    {
     "data": {
      "application/vnd.jupyter.widget-view+json": {
       "model_id": "8451cffc2011421aa53ed5f3aebc37db",
       "version_major": 2,
       "version_minor": 0
      },
      "text/plain": [
       "Validation: |          | 0/? [00:00<?, ?it/s]"
      ]
     },
     "metadata": {},
     "output_type": "display_data"
    },
    {
     "data": {
      "application/vnd.jupyter.widget-view+json": {
       "model_id": "716c0c5868fc49bca25f3699218b010e",
       "version_major": 2,
       "version_minor": 0
      },
      "text/plain": [
       "Validation: |          | 0/? [00:00<?, ?it/s]"
      ]
     },
     "metadata": {},
     "output_type": "display_data"
    },
    {
     "data": {
      "application/vnd.jupyter.widget-view+json": {
       "model_id": "f8dc20a0ec674aeba5bfcc3b93051b4e",
       "version_major": 2,
       "version_minor": 0
      },
      "text/plain": [
       "Validation: |          | 0/? [00:00<?, ?it/s]"
      ]
     },
     "metadata": {},
     "output_type": "display_data"
    },
    {
     "data": {
      "application/vnd.jupyter.widget-view+json": {
       "model_id": "674709d8285b44c59a35618ac4fee569",
       "version_major": 2,
       "version_minor": 0
      },
      "text/plain": [
       "Validation: |          | 0/? [00:00<?, ?it/s]"
      ]
     },
     "metadata": {},
     "output_type": "display_data"
    },
    {
     "data": {
      "application/vnd.jupyter.widget-view+json": {
       "model_id": "253ac4f926db4bb6b10f22e944a906b4",
       "version_major": 2,
       "version_minor": 0
      },
      "text/plain": [
       "Validation: |          | 0/? [00:00<?, ?it/s]"
      ]
     },
     "metadata": {},
     "output_type": "display_data"
    },
    {
     "data": {
      "application/vnd.jupyter.widget-view+json": {
       "model_id": "c661abba88954d579fc6364da06a3b7a",
       "version_major": 2,
       "version_minor": 0
      },
      "text/plain": [
       "Validation: |          | 0/? [00:00<?, ?it/s]"
      ]
     },
     "metadata": {},
     "output_type": "display_data"
    },
    {
     "data": {
      "application/vnd.jupyter.widget-view+json": {
       "model_id": "ee5487be9a8b459aa1f6744698911659",
       "version_major": 2,
       "version_minor": 0
      },
      "text/plain": [
       "Validation: |          | 0/? [00:00<?, ?it/s]"
      ]
     },
     "metadata": {},
     "output_type": "display_data"
    },
    {
     "data": {
      "application/vnd.jupyter.widget-view+json": {
       "model_id": "0f283dd5b5c04264a4e370f04a94b1f6",
       "version_major": 2,
       "version_minor": 0
      },
      "text/plain": [
       "Validation: |          | 0/? [00:00<?, ?it/s]"
      ]
     },
     "metadata": {},
     "output_type": "display_data"
    },
    {
     "data": {
      "application/vnd.jupyter.widget-view+json": {
       "model_id": "1d7008b13c024d2786539d233494ed76",
       "version_major": 2,
       "version_minor": 0
      },
      "text/plain": [
       "Validation: |          | 0/? [00:00<?, ?it/s]"
      ]
     },
     "metadata": {},
     "output_type": "display_data"
    },
    {
     "data": {
      "application/vnd.jupyter.widget-view+json": {
       "model_id": "342d4fdf0cfc4831b657f3d81c8b8865",
       "version_major": 2,
       "version_minor": 0
      },
      "text/plain": [
       "Validation: |          | 0/? [00:00<?, ?it/s]"
      ]
     },
     "metadata": {},
     "output_type": "display_data"
    },
    {
     "data": {
      "application/vnd.jupyter.widget-view+json": {
       "model_id": "bb6be8d7fb664279a8b44d57ba335a80",
       "version_major": 2,
       "version_minor": 0
      },
      "text/plain": [
       "Validation: |          | 0/? [00:00<?, ?it/s]"
      ]
     },
     "metadata": {},
     "output_type": "display_data"
    },
    {
     "data": {
      "application/vnd.jupyter.widget-view+json": {
       "model_id": "bcb5f302784844a3ae6e3618a1c4a6e0",
       "version_major": 2,
       "version_minor": 0
      },
      "text/plain": [
       "Validation: |          | 0/? [00:00<?, ?it/s]"
      ]
     },
     "metadata": {},
     "output_type": "display_data"
    },
    {
     "data": {
      "application/vnd.jupyter.widget-view+json": {
       "model_id": "dea473127fac4085848fa0f70e3619ad",
       "version_major": 2,
       "version_minor": 0
      },
      "text/plain": [
       "Validation: |          | 0/? [00:00<?, ?it/s]"
      ]
     },
     "metadata": {},
     "output_type": "display_data"
    },
    {
     "data": {
      "application/vnd.jupyter.widget-view+json": {
       "model_id": "583f8cfc352848d0a49271f0688b19db",
       "version_major": 2,
       "version_minor": 0
      },
      "text/plain": [
       "Validation: |          | 0/? [00:00<?, ?it/s]"
      ]
     },
     "metadata": {},
     "output_type": "display_data"
    },
    {
     "data": {
      "application/vnd.jupyter.widget-view+json": {
       "model_id": "178bb94e22fb41519249fb36e22e52df",
       "version_major": 2,
       "version_minor": 0
      },
      "text/plain": [
       "Validation: |          | 0/? [00:00<?, ?it/s]"
      ]
     },
     "metadata": {},
     "output_type": "display_data"
    },
    {
     "data": {
      "application/vnd.jupyter.widget-view+json": {
       "model_id": "9b2dbb45dc8048c0bc3e458f687bafda",
       "version_major": 2,
       "version_minor": 0
      },
      "text/plain": [
       "Validation: |          | 0/? [00:00<?, ?it/s]"
      ]
     },
     "metadata": {},
     "output_type": "display_data"
    },
    {
     "data": {
      "application/vnd.jupyter.widget-view+json": {
       "model_id": "d1d7d02b61724a988a3b4139a2b7b1b6",
       "version_major": 2,
       "version_minor": 0
      },
      "text/plain": [
       "Validation: |          | 0/? [00:00<?, ?it/s]"
      ]
     },
     "metadata": {},
     "output_type": "display_data"
    },
    {
     "data": {
      "application/vnd.jupyter.widget-view+json": {
       "model_id": "fe01a13d7b12458aa22124fbe8e4cb61",
       "version_major": 2,
       "version_minor": 0
      },
      "text/plain": [
       "Validation: |          | 0/? [00:00<?, ?it/s]"
      ]
     },
     "metadata": {},
     "output_type": "display_data"
    },
    {
     "data": {
      "application/vnd.jupyter.widget-view+json": {
       "model_id": "057109eb8c624409a714a6e35d544819",
       "version_major": 2,
       "version_minor": 0
      },
      "text/plain": [
       "Validation: |          | 0/? [00:00<?, ?it/s]"
      ]
     },
     "metadata": {},
     "output_type": "display_data"
    },
    {
     "data": {
      "application/vnd.jupyter.widget-view+json": {
       "model_id": "5d0ea0dc7252428b87e4526f09927c1b",
       "version_major": 2,
       "version_minor": 0
      },
      "text/plain": [
       "Validation: |          | 0/? [00:00<?, ?it/s]"
      ]
     },
     "metadata": {},
     "output_type": "display_data"
    },
    {
     "data": {
      "application/vnd.jupyter.widget-view+json": {
       "model_id": "fff8ea7fef844a2285b3370924e0b771",
       "version_major": 2,
       "version_minor": 0
      },
      "text/plain": [
       "Validation: |          | 0/? [00:00<?, ?it/s]"
      ]
     },
     "metadata": {},
     "output_type": "display_data"
    },
    {
     "data": {
      "application/vnd.jupyter.widget-view+json": {
       "model_id": "99ab3a0872534946bc27e06832cbda6a",
       "version_major": 2,
       "version_minor": 0
      },
      "text/plain": [
       "Validation: |          | 0/? [00:00<?, ?it/s]"
      ]
     },
     "metadata": {},
     "output_type": "display_data"
    },
    {
     "data": {
      "application/vnd.jupyter.widget-view+json": {
       "model_id": "a87aa348a0254b2ca6a134f6c8909c85",
       "version_major": 2,
       "version_minor": 0
      },
      "text/plain": [
       "Validation: |          | 0/? [00:00<?, ?it/s]"
      ]
     },
     "metadata": {},
     "output_type": "display_data"
    },
    {
     "data": {
      "application/vnd.jupyter.widget-view+json": {
       "model_id": "c4c5c42c2f64497186630dc25a0c6a37",
       "version_major": 2,
       "version_minor": 0
      },
      "text/plain": [
       "Validation: |          | 0/? [00:00<?, ?it/s]"
      ]
     },
     "metadata": {},
     "output_type": "display_data"
    },
    {
     "data": {
      "application/vnd.jupyter.widget-view+json": {
       "model_id": "e238175748b74c50af2ec7f46ab80efb",
       "version_major": 2,
       "version_minor": 0
      },
      "text/plain": [
       "Validation: |          | 0/? [00:00<?, ?it/s]"
      ]
     },
     "metadata": {},
     "output_type": "display_data"
    },
    {
     "data": {
      "application/vnd.jupyter.widget-view+json": {
       "model_id": "0cf32d08d06c44039db0421c5658a522",
       "version_major": 2,
       "version_minor": 0
      },
      "text/plain": [
       "Validation: |          | 0/? [00:00<?, ?it/s]"
      ]
     },
     "metadata": {},
     "output_type": "display_data"
    },
    {
     "data": {
      "application/vnd.jupyter.widget-view+json": {
       "model_id": "3caff42552f049d9a9ad40903f190307",
       "version_major": 2,
       "version_minor": 0
      },
      "text/plain": [
       "Validation: |          | 0/? [00:00<?, ?it/s]"
      ]
     },
     "metadata": {},
     "output_type": "display_data"
    },
    {
     "data": {
      "application/vnd.jupyter.widget-view+json": {
       "model_id": "f409458af64e498b8069c169a4374c11",
       "version_major": 2,
       "version_minor": 0
      },
      "text/plain": [
       "Validation: |          | 0/? [00:00<?, ?it/s]"
      ]
     },
     "metadata": {},
     "output_type": "display_data"
    },
    {
     "data": {
      "application/vnd.jupyter.widget-view+json": {
       "model_id": "eff8cea0035c4ce8919933897541fbf3",
       "version_major": 2,
       "version_minor": 0
      },
      "text/plain": [
       "Validation: |          | 0/? [00:00<?, ?it/s]"
      ]
     },
     "metadata": {},
     "output_type": "display_data"
    },
    {
     "data": {
      "application/vnd.jupyter.widget-view+json": {
       "model_id": "f56e94a17b854898955ebf8e92cc6704",
       "version_major": 2,
       "version_minor": 0
      },
      "text/plain": [
       "Validation: |          | 0/? [00:00<?, ?it/s]"
      ]
     },
     "metadata": {},
     "output_type": "display_data"
    },
    {
     "data": {
      "application/vnd.jupyter.widget-view+json": {
       "model_id": "7ecaf9bbf4f041d68f4afd35192a304d",
       "version_major": 2,
       "version_minor": 0
      },
      "text/plain": [
       "Validation: |          | 0/? [00:00<?, ?it/s]"
      ]
     },
     "metadata": {},
     "output_type": "display_data"
    },
    {
     "data": {
      "application/vnd.jupyter.widget-view+json": {
       "model_id": "af32dacf61df43aea215c5985585f7d2",
       "version_major": 2,
       "version_minor": 0
      },
      "text/plain": [
       "Validation: |          | 0/? [00:00<?, ?it/s]"
      ]
     },
     "metadata": {},
     "output_type": "display_data"
    },
    {
     "data": {
      "application/vnd.jupyter.widget-view+json": {
       "model_id": "04b61262dd37476f90c1783ad25cc70a",
       "version_major": 2,
       "version_minor": 0
      },
      "text/plain": [
       "Validation: |          | 0/? [00:00<?, ?it/s]"
      ]
     },
     "metadata": {},
     "output_type": "display_data"
    },
    {
     "data": {
      "application/vnd.jupyter.widget-view+json": {
       "model_id": "03b8e5af6b1b41149bdc0c558e0d3841",
       "version_major": 2,
       "version_minor": 0
      },
      "text/plain": [
       "Validation: |          | 0/? [00:00<?, ?it/s]"
      ]
     },
     "metadata": {},
     "output_type": "display_data"
    },
    {
     "data": {
      "application/vnd.jupyter.widget-view+json": {
       "model_id": "66049b4df07e4bc183b3ca3d733e1ae6",
       "version_major": 2,
       "version_minor": 0
      },
      "text/plain": [
       "Validation: |          | 0/? [00:00<?, ?it/s]"
      ]
     },
     "metadata": {},
     "output_type": "display_data"
    },
    {
     "data": {
      "application/vnd.jupyter.widget-view+json": {
       "model_id": "1d7cee23d72044f0827898ef243d072e",
       "version_major": 2,
       "version_minor": 0
      },
      "text/plain": [
       "Validation: |          | 0/? [00:00<?, ?it/s]"
      ]
     },
     "metadata": {},
     "output_type": "display_data"
    },
    {
     "data": {
      "application/vnd.jupyter.widget-view+json": {
       "model_id": "fc94bfb66daf4209b9c9cfc67eb457df",
       "version_major": 2,
       "version_minor": 0
      },
      "text/plain": [
       "Validation: |          | 0/? [00:00<?, ?it/s]"
      ]
     },
     "metadata": {},
     "output_type": "display_data"
    },
    {
     "data": {
      "application/vnd.jupyter.widget-view+json": {
       "model_id": "8a061bfe89ac4b3ba64ef304bdaf4fff",
       "version_major": 2,
       "version_minor": 0
      },
      "text/plain": [
       "Validation: |          | 0/? [00:00<?, ?it/s]"
      ]
     },
     "metadata": {},
     "output_type": "display_data"
    },
    {
     "data": {
      "application/vnd.jupyter.widget-view+json": {
       "model_id": "e5a4fc6d57d2492591b4140a1ef9acdd",
       "version_major": 2,
       "version_minor": 0
      },
      "text/plain": [
       "Validation: |          | 0/? [00:00<?, ?it/s]"
      ]
     },
     "metadata": {},
     "output_type": "display_data"
    },
    {
     "data": {
      "application/vnd.jupyter.widget-view+json": {
       "model_id": "ace267f95df94cde87ee5db3404e414c",
       "version_major": 2,
       "version_minor": 0
      },
      "text/plain": [
       "Validation: |          | 0/? [00:00<?, ?it/s]"
      ]
     },
     "metadata": {},
     "output_type": "display_data"
    },
    {
     "data": {
      "application/vnd.jupyter.widget-view+json": {
       "model_id": "4a771181b83642efaaf3bc687a0e2ac2",
       "version_major": 2,
       "version_minor": 0
      },
      "text/plain": [
       "Validation: |          | 0/? [00:00<?, ?it/s]"
      ]
     },
     "metadata": {},
     "output_type": "display_data"
    },
    {
     "data": {
      "application/vnd.jupyter.widget-view+json": {
       "model_id": "2d3ec868ec154992b9f9944a3ac7d0b0",
       "version_major": 2,
       "version_minor": 0
      },
      "text/plain": [
       "Validation: |          | 0/? [00:00<?, ?it/s]"
      ]
     },
     "metadata": {},
     "output_type": "display_data"
    },
    {
     "data": {
      "application/vnd.jupyter.widget-view+json": {
       "model_id": "34d4b22786d544a6bffdbb394c376643",
       "version_major": 2,
       "version_minor": 0
      },
      "text/plain": [
       "Validation: |          | 0/? [00:00<?, ?it/s]"
      ]
     },
     "metadata": {},
     "output_type": "display_data"
    },
    {
     "data": {
      "application/vnd.jupyter.widget-view+json": {
       "model_id": "c34b596b3b3b47769f0b4105c4e1adf9",
       "version_major": 2,
       "version_minor": 0
      },
      "text/plain": [
       "Validation: |          | 0/? [00:00<?, ?it/s]"
      ]
     },
     "metadata": {},
     "output_type": "display_data"
    },
    {
     "data": {
      "application/vnd.jupyter.widget-view+json": {
       "model_id": "4c4424a3543e4ff389c02cb29a550b72",
       "version_major": 2,
       "version_minor": 0
      },
      "text/plain": [
       "Validation: |          | 0/? [00:00<?, ?it/s]"
      ]
     },
     "metadata": {},
     "output_type": "display_data"
    },
    {
     "data": {
      "application/vnd.jupyter.widget-view+json": {
       "model_id": "72c18a58149d46e3874e1f8cc38507b5",
       "version_major": 2,
       "version_minor": 0
      },
      "text/plain": [
       "Validation: |          | 0/? [00:00<?, ?it/s]"
      ]
     },
     "metadata": {},
     "output_type": "display_data"
    },
    {
     "data": {
      "application/vnd.jupyter.widget-view+json": {
       "model_id": "af4f98a2ad6140c5a9dc310f93126a99",
       "version_major": 2,
       "version_minor": 0
      },
      "text/plain": [
       "Validation: |          | 0/? [00:00<?, ?it/s]"
      ]
     },
     "metadata": {},
     "output_type": "display_data"
    },
    {
     "data": {
      "application/vnd.jupyter.widget-view+json": {
       "model_id": "2ccd6a1b95524811bb4db2c14f279980",
       "version_major": 2,
       "version_minor": 0
      },
      "text/plain": [
       "Validation: |          | 0/? [00:00<?, ?it/s]"
      ]
     },
     "metadata": {},
     "output_type": "display_data"
    },
    {
     "data": {
      "application/vnd.jupyter.widget-view+json": {
       "model_id": "168eed8e074e42f69d4218b493d30309",
       "version_major": 2,
       "version_minor": 0
      },
      "text/plain": [
       "Validation: |          | 0/? [00:00<?, ?it/s]"
      ]
     },
     "metadata": {},
     "output_type": "display_data"
    },
    {
     "data": {
      "application/vnd.jupyter.widget-view+json": {
       "model_id": "3b9eba5c96404931839ec51538cb32e7",
       "version_major": 2,
       "version_minor": 0
      },
      "text/plain": [
       "Validation: |          | 0/? [00:00<?, ?it/s]"
      ]
     },
     "metadata": {},
     "output_type": "display_data"
    },
    {
     "data": {
      "application/vnd.jupyter.widget-view+json": {
       "model_id": "2828c0f88f0a474cab3fa4c2e0554df6",
       "version_major": 2,
       "version_minor": 0
      },
      "text/plain": [
       "Validation: |          | 0/? [00:00<?, ?it/s]"
      ]
     },
     "metadata": {},
     "output_type": "display_data"
    },
    {
     "data": {
      "application/vnd.jupyter.widget-view+json": {
       "model_id": "a033b1a3eef24dec94cb6bb1887a0b15",
       "version_major": 2,
       "version_minor": 0
      },
      "text/plain": [
       "Validation: |          | 0/? [00:00<?, ?it/s]"
      ]
     },
     "metadata": {},
     "output_type": "display_data"
    },
    {
     "data": {
      "application/vnd.jupyter.widget-view+json": {
       "model_id": "5cc3a868517b422ba7bfecafccc357ef",
       "version_major": 2,
       "version_minor": 0
      },
      "text/plain": [
       "Validation: |          | 0/? [00:00<?, ?it/s]"
      ]
     },
     "metadata": {},
     "output_type": "display_data"
    },
    {
     "data": {
      "application/vnd.jupyter.widget-view+json": {
       "model_id": "a8ffec559987476794a0a0f2935beeb6",
       "version_major": 2,
       "version_minor": 0
      },
      "text/plain": [
       "Validation: |          | 0/? [00:00<?, ?it/s]"
      ]
     },
     "metadata": {},
     "output_type": "display_data"
    },
    {
     "data": {
      "application/vnd.jupyter.widget-view+json": {
       "model_id": "bd6ebf9d7d8845d9bc0a359ef79b48e1",
       "version_major": 2,
       "version_minor": 0
      },
      "text/plain": [
       "Validation: |          | 0/? [00:00<?, ?it/s]"
      ]
     },
     "metadata": {},
     "output_type": "display_data"
    },
    {
     "data": {
      "application/vnd.jupyter.widget-view+json": {
       "model_id": "ea55c60d0cf3445cafa70f9d980b16b8",
       "version_major": 2,
       "version_minor": 0
      },
      "text/plain": [
       "Validation: |          | 0/? [00:00<?, ?it/s]"
      ]
     },
     "metadata": {},
     "output_type": "display_data"
    },
    {
     "data": {
      "application/vnd.jupyter.widget-view+json": {
       "model_id": "6f63979d04cf436d821c9f1face898bd",
       "version_major": 2,
       "version_minor": 0
      },
      "text/plain": [
       "Validation: |          | 0/? [00:00<?, ?it/s]"
      ]
     },
     "metadata": {},
     "output_type": "display_data"
    },
    {
     "data": {
      "application/vnd.jupyter.widget-view+json": {
       "model_id": "d5b7c61a4fff4e5183cb4ed5b44dda17",
       "version_major": 2,
       "version_minor": 0
      },
      "text/plain": [
       "Validation: |          | 0/? [00:00<?, ?it/s]"
      ]
     },
     "metadata": {},
     "output_type": "display_data"
    },
    {
     "data": {
      "application/vnd.jupyter.widget-view+json": {
       "model_id": "01eb4e8b30bc4d699c605d3d9216d1ef",
       "version_major": 2,
       "version_minor": 0
      },
      "text/plain": [
       "Validation: |          | 0/? [00:00<?, ?it/s]"
      ]
     },
     "metadata": {},
     "output_type": "display_data"
    },
    {
     "data": {
      "application/vnd.jupyter.widget-view+json": {
       "model_id": "615568b4380343c4873086d0894c6340",
       "version_major": 2,
       "version_minor": 0
      },
      "text/plain": [
       "Validation: |          | 0/? [00:00<?, ?it/s]"
      ]
     },
     "metadata": {},
     "output_type": "display_data"
    },
    {
     "data": {
      "application/vnd.jupyter.widget-view+json": {
       "model_id": "c98531ce27e64df2b43bc15bd3e7f232",
       "version_major": 2,
       "version_minor": 0
      },
      "text/plain": [
       "Validation: |          | 0/? [00:00<?, ?it/s]"
      ]
     },
     "metadata": {},
     "output_type": "display_data"
    },
    {
     "data": {
      "application/vnd.jupyter.widget-view+json": {
       "model_id": "b37b899ef50d492baeef776de93847fe",
       "version_major": 2,
       "version_minor": 0
      },
      "text/plain": [
       "Validation: |          | 0/? [00:00<?, ?it/s]"
      ]
     },
     "metadata": {},
     "output_type": "display_data"
    },
    {
     "data": {
      "application/vnd.jupyter.widget-view+json": {
       "model_id": "463825bc84c845b9b1b45f8b13b7cb8b",
       "version_major": 2,
       "version_minor": 0
      },
      "text/plain": [
       "Validation: |          | 0/? [00:00<?, ?it/s]"
      ]
     },
     "metadata": {},
     "output_type": "display_data"
    },
    {
     "data": {
      "application/vnd.jupyter.widget-view+json": {
       "model_id": "6374cc49d204442f8b108bfe053aa794",
       "version_major": 2,
       "version_minor": 0
      },
      "text/plain": [
       "Validation: |          | 0/? [00:00<?, ?it/s]"
      ]
     },
     "metadata": {},
     "output_type": "display_data"
    },
    {
     "data": {
      "application/vnd.jupyter.widget-view+json": {
       "model_id": "ce1aee6357e341539ccada529b535177",
       "version_major": 2,
       "version_minor": 0
      },
      "text/plain": [
       "Validation: |          | 0/? [00:00<?, ?it/s]"
      ]
     },
     "metadata": {},
     "output_type": "display_data"
    },
    {
     "data": {
      "application/vnd.jupyter.widget-view+json": {
       "model_id": "9fc09c860aab4308a09f5d4ec73264e5",
       "version_major": 2,
       "version_minor": 0
      },
      "text/plain": [
       "Validation: |          | 0/? [00:00<?, ?it/s]"
      ]
     },
     "metadata": {},
     "output_type": "display_data"
    },
    {
     "data": {
      "application/vnd.jupyter.widget-view+json": {
       "model_id": "47099764e53f4ce3932a115feac4c20c",
       "version_major": 2,
       "version_minor": 0
      },
      "text/plain": [
       "Validation: |          | 0/? [00:00<?, ?it/s]"
      ]
     },
     "metadata": {},
     "output_type": "display_data"
    },
    {
     "data": {
      "application/vnd.jupyter.widget-view+json": {
       "model_id": "2284e342de1244d189639be7b0c3f132",
       "version_major": 2,
       "version_minor": 0
      },
      "text/plain": [
       "Validation: |          | 0/? [00:00<?, ?it/s]"
      ]
     },
     "metadata": {},
     "output_type": "display_data"
    },
    {
     "data": {
      "application/vnd.jupyter.widget-view+json": {
       "model_id": "cb7de748833c4d92a9c2a9fa13ddd564",
       "version_major": 2,
       "version_minor": 0
      },
      "text/plain": [
       "Validation: |          | 0/? [00:00<?, ?it/s]"
      ]
     },
     "metadata": {},
     "output_type": "display_data"
    },
    {
     "data": {
      "application/vnd.jupyter.widget-view+json": {
       "model_id": "46c091e9db884df5bed388e179dc7f98",
       "version_major": 2,
       "version_minor": 0
      },
      "text/plain": [
       "Validation: |          | 0/? [00:00<?, ?it/s]"
      ]
     },
     "metadata": {},
     "output_type": "display_data"
    },
    {
     "data": {
      "application/vnd.jupyter.widget-view+json": {
       "model_id": "f1d6a7f7ce7848b2984bcad989caa5f2",
       "version_major": 2,
       "version_minor": 0
      },
      "text/plain": [
       "Validation: |          | 0/? [00:00<?, ?it/s]"
      ]
     },
     "metadata": {},
     "output_type": "display_data"
    },
    {
     "data": {
      "application/vnd.jupyter.widget-view+json": {
       "model_id": "3fa6104881724a849df1638d62eff206",
       "version_major": 2,
       "version_minor": 0
      },
      "text/plain": [
       "Validation: |          | 0/? [00:00<?, ?it/s]"
      ]
     },
     "metadata": {},
     "output_type": "display_data"
    },
    {
     "data": {
      "application/vnd.jupyter.widget-view+json": {
       "model_id": "e4404b8d2b044178a3dc950bd3063ec9",
       "version_major": 2,
       "version_minor": 0
      },
      "text/plain": [
       "Validation: |          | 0/? [00:00<?, ?it/s]"
      ]
     },
     "metadata": {},
     "output_type": "display_data"
    },
    {
     "data": {
      "application/vnd.jupyter.widget-view+json": {
       "model_id": "7ee24abf04a84dd6a1349b8350273248",
       "version_major": 2,
       "version_minor": 0
      },
      "text/plain": [
       "Validation: |          | 0/? [00:00<?, ?it/s]"
      ]
     },
     "metadata": {},
     "output_type": "display_data"
    },
    {
     "data": {
      "application/vnd.jupyter.widget-view+json": {
       "model_id": "34284c5a4ecf4fa5a1f01d02abe7fd9c",
       "version_major": 2,
       "version_minor": 0
      },
      "text/plain": [
       "Validation: |          | 0/? [00:00<?, ?it/s]"
      ]
     },
     "metadata": {},
     "output_type": "display_data"
    },
    {
     "data": {
      "application/vnd.jupyter.widget-view+json": {
       "model_id": "6bc3c80c1f264bbfbeb93734f0e428bc",
       "version_major": 2,
       "version_minor": 0
      },
      "text/plain": [
       "Validation: |          | 0/? [00:00<?, ?it/s]"
      ]
     },
     "metadata": {},
     "output_type": "display_data"
    },
    {
     "data": {
      "application/vnd.jupyter.widget-view+json": {
       "model_id": "a385a33f340c4c7cb6aab7f4ddd500fd",
       "version_major": 2,
       "version_minor": 0
      },
      "text/plain": [
       "Validation: |          | 0/? [00:00<?, ?it/s]"
      ]
     },
     "metadata": {},
     "output_type": "display_data"
    },
    {
     "data": {
      "application/vnd.jupyter.widget-view+json": {
       "model_id": "8570cdd67ecb4968927f94d45be34e66",
       "version_major": 2,
       "version_minor": 0
      },
      "text/plain": [
       "Validation: |          | 0/? [00:00<?, ?it/s]"
      ]
     },
     "metadata": {},
     "output_type": "display_data"
    },
    {
     "data": {
      "application/vnd.jupyter.widget-view+json": {
       "model_id": "2abbe091a11a43e7a422e76ac883c63c",
       "version_major": 2,
       "version_minor": 0
      },
      "text/plain": [
       "Validation: |          | 0/? [00:00<?, ?it/s]"
      ]
     },
     "metadata": {},
     "output_type": "display_data"
    },
    {
     "data": {
      "application/vnd.jupyter.widget-view+json": {
       "model_id": "676e82a47b644a868b8c628144361f3c",
       "version_major": 2,
       "version_minor": 0
      },
      "text/plain": [
       "Validation: |          | 0/? [00:00<?, ?it/s]"
      ]
     },
     "metadata": {},
     "output_type": "display_data"
    },
    {
     "data": {
      "application/vnd.jupyter.widget-view+json": {
       "model_id": "c881adf1653d4d59888a6d6e379757cf",
       "version_major": 2,
       "version_minor": 0
      },
      "text/plain": [
       "Validation: |          | 0/? [00:00<?, ?it/s]"
      ]
     },
     "metadata": {},
     "output_type": "display_data"
    }
   ],
   "source": [
    "# train the model\n",
    "trainer.fit(model, train_loader, val_loader)"
   ]
  },
  {
   "cell_type": "code",
   "execution_count": 168,
   "id": "e83dd000",
   "metadata": {},
   "outputs": [
    {
     "data": {
      "application/vnd.jupyter.widget-view+json": {
       "model_id": "ea46ed622e134c1f812b3cd2fa963480",
       "version_major": 2,
       "version_minor": 0
      },
      "text/plain": [
       "Testing: |          | 0/? [00:00<?, ?it/s]"
      ]
     },
     "metadata": {},
     "output_type": "display_data"
    },
    {
     "data": {
      "text/html": [
       "<pre style=\"white-space:pre;overflow-x:auto;line-height:normal;font-family:Menlo,'DejaVu Sans Mono',consolas,'Courier New',monospace\">┏━━━━━━━━━━━━━━━━━━━━━━━━━━━┳━━━━━━━━━━━━━━━━━━━━━━━━━━━┓\n",
       "┃<span style=\"font-weight: bold\">        Test metric        </span>┃<span style=\"font-weight: bold\">       DataLoader 0        </span>┃\n",
       "┡━━━━━━━━━━━━━━━━━━━━━━━━━━━╇━━━━━━━━━━━━━━━━━━━━━━━━━━━┩\n",
       "│<span style=\"color: #008080; text-decoration-color: #008080\">       test_accuracy       </span>│<span style=\"color: #800080; text-decoration-color: #800080\">    0.7250000238418579     </span>│\n",
       "│<span style=\"color: #008080; text-decoration-color: #008080\">         test_loss         </span>│<span style=\"color: #800080; text-decoration-color: #800080\">     0.67429518699646      </span>│\n",
       "└───────────────────────────┴───────────────────────────┘\n",
       "</pre>\n"
      ],
      "text/plain": [
       "┏━━━━━━━━━━━━━━━━━━━━━━━━━━━┳━━━━━━━━━━━━━━━━━━━━━━━━━━━┓\n",
       "┃\u001b[1m \u001b[0m\u001b[1m       Test metric       \u001b[0m\u001b[1m \u001b[0m┃\u001b[1m \u001b[0m\u001b[1m      DataLoader 0       \u001b[0m\u001b[1m \u001b[0m┃\n",
       "┡━━━━━━━━━━━━━━━━━━━━━━━━━━━╇━━━━━━━━━━━━━━━━━━━━━━━━━━━┩\n",
       "│\u001b[36m \u001b[0m\u001b[36m      test_accuracy      \u001b[0m\u001b[36m \u001b[0m│\u001b[35m \u001b[0m\u001b[35m   0.7250000238418579    \u001b[0m\u001b[35m \u001b[0m│\n",
       "│\u001b[36m \u001b[0m\u001b[36m        test_loss        \u001b[0m\u001b[36m \u001b[0m│\u001b[35m \u001b[0m\u001b[35m    0.67429518699646     \u001b[0m\u001b[35m \u001b[0m│\n",
       "└───────────────────────────┴───────────────────────────┘\n"
      ]
     },
     "metadata": {},
     "output_type": "display_data"
    },
    {
     "data": {
      "text/plain": [
       "[{'test_loss': 0.67429518699646, 'test_accuracy': 0.7250000238418579}]"
      ]
     },
     "execution_count": 168,
     "metadata": {},
     "output_type": "execute_result"
    }
   ],
   "source": [
    "# evaluate model\n",
    "model.eval()\n",
    "\n",
    "# retrieve the test accuracy\n",
    "trainer.test(model, test_loader)"
   ]
  },
  {
   "cell_type": "code",
   "execution_count": 169,
   "id": "fd8fc958",
   "metadata": {},
   "outputs": [
    {
     "data": {
      "image/png": "[encoded data removed]",
      "text/plain": [
       "<Figure size 640x480 with 2 Axes>"
      ]
     },
     "metadata": {},
     "output_type": "display_data"
    }
   ],
   "source": [
    "import matplotlib.pyplot as plt\n",
    "\n",
    "# Detach and move to CPU\n",
    "mask = model.input_mask.detach().cpu().squeeze()\n",
    "\n",
    "# Plot\n",
    "plt.imshow(mask, cmap='viridis')\n",
    "plt.title(\"Pixel Importance Map\")\n",
    "plt.colorbar()\n",
    "plt.axis('off')\n",
    "plt.show()\n"
   ]
  },
  {
   "cell_type": "markdown",
   "id": "dc9a041f",
   "metadata": {},
   "source": [
    "### CV for finding optimal Lambda"
   ]
  },
  {
   "cell_type": "code",
   "execution_count": 128,
   "id": "da61f917",
   "metadata": {},
   "outputs": [],
   "source": [
    "from torch.utils.data import Subset, DataLoader\n",
    "from sklearn.model_selection import KFold\n",
    "import matplotlib.pyplot as plt\n"
   ]
  },
  {
   "cell_type": "code",
   "execution_count": 129,
   "id": "ce2b4b8c",
   "metadata": {},
   "outputs": [],
   "source": [
    "def evaluate_model(model, dataloader):\n",
    "    model.eval()\n",
    "    correct = 0\n",
    "    total = 0\n",
    "    with torch.no_grad():\n",
    "        for x, y in dataloader:\n",
    "            x, y = x.to(model.device), y.to(model.device)\n",
    "            preds = model(x).argmax(dim=1)\n",
    "            correct += (preds == y).sum().item()\n",
    "            total += y.size(0)\n",
    "    return correct / total\n"
   ]
  },
  {
   "cell_type": "code",
   "execution_count": 130,
   "id": "0b8269b4",
   "metadata": {},
   "outputs": [],
   "source": [
    "def run_cv_for_lambdas(dataset, lambdas, k_folds=5, batch_size=64, max_epochs=10):\n",
    "    kf = KFold(n_splits=k_folds, shuffle=True, random_state=42)\n",
    "    results = []\n",
    "\n",
    "    for lmbda in lambdas:\n",
    "        print(f\"\\nTesting lambda = {lmbda}\")\n",
    "        val_scores = []\n",
    "        sparsities = []\n",
    "\n",
    "        for fold, (train_idx, val_idx) in enumerate(kf.split(dataset)):\n",
    "            print(f\"  Fold {fold+1}/{k_folds}\")\n",
    "            train_subset = Subset(dataset, train_idx)\n",
    "            val_subset = Subset(dataset, val_idx)\n",
    "\n",
    "            train_loader = DataLoader(train_subset, batch_size=batch_size, shuffle=True)\n",
    "            val_loader = DataLoader(val_subset, batch_size=batch_size)\n",
    "\n",
    "            model = PixelLassoCNN(l1_lambda=lmbda)\n",
    "\n",
    "            trainer = pl.Trainer(\n",
    "                max_epochs=max_epochs,\n",
    "                enable_progress_bar=False,\n",
    "                logger=False,\n",
    "                accelerator=\"auto\",\n",
    "                enable_model_summary=False,\n",
    "            )\n",
    "            \n",
    "            trainer.fit(model, train_loader, val_loader)\n",
    "\n",
    "            # Eval on validation set\n",
    "            acc = evaluate_model(model, val_loader)\n",
    "            mask = model.input_mask.detach().cpu().squeeze()\n",
    "            mask = mask.numpy()\n",
    "            sparsity = (mask < 0.01).sum() / mask.size\n",
    "            print(f\"  Validation Accuracy: {acc:.4f}\")\n",
    "            print(f\"  Sparsity: {sparsity:.4f}\")\n",
    "            val_scores.append(acc)\n",
    "            sparsities.append(sparsity)\n",
    "\n",
    "        results.append({\n",
    "            \"lambda\": lmbda,\n",
    "            \"val_acc_mean\": np.mean(val_scores),\n",
    "            \"val_acc_std\": np.std(val_scores),\n",
    "            \"sparsity_mean\": np.mean(sparsities),\n",
    "            \"mask\": model.input_mask,\n",
    "        })\n",
    "\n",
    "    return results\n",
    "\n",
    "def plot_cv_results(results):\n",
    "    lambdas = [r[\"lambda\"] for r in results]\n",
    "    accs = [r[\"val_acc_mean\"] for r in results]\n",
    "    sparsities = [r[\"sparsity_mean\"] for r in results]\n",
    "\n",
    "    plt.figure(figsize=(12, 5))\n",
    "\n",
    "    plt.subplot(1, 2, 1)\n",
    "    plt.plot(lambdas, accs, marker='o')\n",
    "    plt.xscale(\"log\")\n",
    "    plt.xlabel(\"Lambda\")\n",
    "    plt.ylabel(\"Validation Accuracy\")\n",
    "\n",
    "    plt.subplot(1, 2, 2)\n",
    "    plt.plot(lambdas, sparsities, marker='o', color=\"red\")\n",
    "    plt.xscale(\"log\")\n",
    "    plt.xlabel(\"Lambda\")\n",
    "    plt.ylabel(\"Mean Sparsity (fraction of near-zero pixels)\")\n",
    "\n",
    "    plt.tight_layout()\n",
    "    plt.show()"
   ]
  },
  {
   "cell_type": "code",
   "execution_count": 174,
   "id": "9a4ff77a",
   "metadata": {},
   "outputs": [
    {
     "name": "stdout",
     "output_type": "stream",
     "text": [
      "Running cross-validation repeat 1/5...\n",
      "\n",
      "Testing lambda = 0.01\n",
      "  Fold 1/5\n"
     ]
    },
    {
     "name": "stderr",
     "output_type": "stream",
     "text": [
      "/Library/Frameworks/Python.framework/Versions/3.10/lib/python3.10/site-packages/pytorch_lightning/callbacks/model_checkpoint.py:652: Checkpoint directory /Users/oskar/Coding/MVE441/project_2/checkpoints exists and is not empty.\n",
      "/Library/Frameworks/Python.framework/Versions/3.10/lib/python3.10/site-packages/pytorch_lightning/trainer/connectors/data_connector.py:441: The 'val_dataloader' does not have many workers which may be a bottleneck. Consider increasing the value of the `num_workers` argument` to `num_workers=7` in the `DataLoader` to improve performance.\n",
      "/Library/Frameworks/Python.framework/Versions/3.10/lib/python3.10/site-packages/pytorch_lightning/trainer/connectors/data_connector.py:441: The 'train_dataloader' does not have many workers which may be a bottleneck. Consider increasing the value of the `num_workers` argument` to `num_workers=7` in the `DataLoader` to improve performance.\n"
     ]
    },
    {
     "name": "stdout",
     "output_type": "stream",
     "text": [
      "  Validation Accuracy: 0.7308\n",
      "  Sparsity: 0.0000\n",
      "  Fold 2/5\n",
      "  Validation Accuracy: 0.8000\n",
      "  Sparsity: 0.0000\n",
      "  Fold 3/5\n",
      "  Validation Accuracy: 0.8400\n",
      "  Sparsity: 0.0000\n",
      "  Fold 4/5\n",
      "  Validation Accuracy: 0.6400\n",
      "  Sparsity: 0.0000\n",
      "  Fold 5/5\n",
      "  Validation Accuracy: 0.6400\n",
      "  Sparsity: 0.0000\n",
      "\n",
      "Testing lambda = 0.03162277660168379\n",
      "  Fold 1/5\n",
      "  Validation Accuracy: 0.8077\n",
      "  Sparsity: 0.0000\n",
      "  Fold 2/5\n",
      "  Validation Accuracy: 0.7200\n",
      "  Sparsity: 0.0000\n",
      "  Fold 3/5\n",
      "  Validation Accuracy: 0.8800\n",
      "  Sparsity: 0.0000\n",
      "  Fold 4/5\n",
      "  Validation Accuracy: 0.7600\n",
      "  Sparsity: 0.0000\n",
      "  Fold 5/5\n",
      "  Validation Accuracy: 0.4400\n",
      "  Sparsity: 0.0000\n",
      "\n",
      "Testing lambda = 0.1\n",
      "  Fold 1/5\n",
      "  Validation Accuracy: 0.5385\n",
      "  Sparsity: 0.0000\n",
      "  Fold 2/5\n",
      "  Validation Accuracy: 0.7600\n",
      "  Sparsity: 0.0000\n",
      "  Fold 3/5\n",
      "  Validation Accuracy: 0.7200\n",
      "  Sparsity: 0.0000\n",
      "  Fold 4/5\n",
      "  Validation Accuracy: 0.5200\n",
      "  Sparsity: 0.0000\n",
      "  Fold 5/5\n",
      "  Validation Accuracy: 0.7200\n",
      "  Sparsity: 0.0000\n",
      "\n",
      "Testing lambda = 0.31622776601683794\n",
      "  Fold 1/5\n",
      "  Validation Accuracy: 0.8077\n",
      "  Sparsity: 0.0000\n",
      "  Fold 2/5\n",
      "  Validation Accuracy: 0.7600\n",
      "  Sparsity: 0.0000\n",
      "  Fold 3/5\n",
      "  Validation Accuracy: 0.8800\n",
      "  Sparsity: 0.0000\n",
      "  Fold 4/5\n",
      "  Validation Accuracy: 0.8400\n",
      "  Sparsity: 0.0000\n",
      "  Fold 5/5\n",
      "  Validation Accuracy: 0.7600\n",
      "  Sparsity: 0.0000\n",
      "\n",
      "Testing lambda = 1.0\n",
      "  Fold 1/5\n",
      "  Validation Accuracy: 0.7692\n",
      "  Sparsity: 0.0000\n",
      "  Fold 2/5\n",
      "  Validation Accuracy: 0.7200\n",
      "  Sparsity: 0.0000\n",
      "  Fold 3/5\n",
      "  Validation Accuracy: 0.8400\n",
      "  Sparsity: 0.0000\n",
      "  Fold 4/5\n",
      "  Validation Accuracy: 0.7200\n",
      "  Sparsity: 0.0000\n",
      "  Fold 5/5\n",
      "  Validation Accuracy: 0.6800\n",
      "  Sparsity: 0.0000\n",
      "Retraining with best lambda: 0.31622776601683794\n",
      "Test Accuracy: 0.5250\n",
      "Running cross-validation repeat 2/5...\n",
      "\n",
      "Testing lambda = 0.01\n",
      "  Fold 1/5\n",
      "  Validation Accuracy: 0.7308\n",
      "  Sparsity: 0.0000\n",
      "  Fold 2/5\n",
      "  Validation Accuracy: 0.6000\n",
      "  Sparsity: 0.0000\n",
      "  Fold 3/5\n",
      "  Validation Accuracy: 0.8000\n",
      "  Sparsity: 0.0000\n",
      "  Fold 4/5\n",
      "  Validation Accuracy: 0.8000\n",
      "  Sparsity: 0.0000\n",
      "  Fold 5/5\n",
      "  Validation Accuracy: 0.6800\n",
      "  Sparsity: 0.0000\n",
      "\n",
      "Testing lambda = 0.03162277660168379\n",
      "  Fold 1/5\n",
      "  Validation Accuracy: 0.7692\n",
      "  Sparsity: 0.0000\n",
      "  Fold 2/5\n",
      "  Validation Accuracy: 0.6800\n",
      "  Sparsity: 0.0000\n",
      "  Fold 3/5\n",
      "  Validation Accuracy: 0.8800\n",
      "  Sparsity: 0.0000\n",
      "  Fold 4/5\n",
      "  Validation Accuracy: 0.7600\n",
      "  Sparsity: 0.0000\n",
      "  Fold 5/5\n",
      "  Validation Accuracy: 0.8000\n",
      "  Sparsity: 0.0000\n",
      "\n",
      "Testing lambda = 0.1\n",
      "  Fold 1/5\n",
      "  Validation Accuracy: 0.4231\n",
      "  Sparsity: 0.0000\n",
      "  Fold 2/5\n",
      "  Validation Accuracy: 0.6800\n",
      "  Sparsity: 0.0000\n",
      "  Fold 3/5\n",
      "  Validation Accuracy: 0.8800\n",
      "  Sparsity: 0.0000\n",
      "  Fold 4/5\n",
      "  Validation Accuracy: 0.8400\n",
      "  Sparsity: 0.0000\n",
      "  Fold 5/5\n",
      "  Validation Accuracy: 0.7200\n",
      "  Sparsity: 0.0000\n",
      "\n",
      "Testing lambda = 0.31622776601683794\n",
      "  Fold 1/5\n",
      "  Validation Accuracy: 0.8077\n",
      "  Sparsity: 0.0000\n",
      "  Fold 2/5\n",
      "  Validation Accuracy: 0.7200\n",
      "  Sparsity: 0.0000\n",
      "  Fold 3/5\n",
      "  Validation Accuracy: 0.9200\n",
      "  Sparsity: 0.0000\n",
      "  Fold 4/5\n",
      "  Validation Accuracy: 0.8000\n",
      "  Sparsity: 0.0000\n",
      "  Fold 5/5\n",
      "  Validation Accuracy: 0.7200\n",
      "  Sparsity: 0.0000\n",
      "\n",
      "Testing lambda = 1.0\n",
      "  Fold 1/5\n",
      "  Validation Accuracy: 0.7692\n",
      "  Sparsity: 0.0000\n",
      "  Fold 2/5\n",
      "  Validation Accuracy: 0.5600\n",
      "  Sparsity: 0.0000\n",
      "  Fold 3/5\n",
      "  Validation Accuracy: 0.8800\n",
      "  Sparsity: 0.0000\n",
      "  Fold 4/5\n",
      "  Validation Accuracy: 0.8400\n",
      "  Sparsity: 0.0000\n",
      "  Fold 5/5\n",
      "  Validation Accuracy: 0.6800\n",
      "  Sparsity: 0.0000\n",
      "Retraining with best lambda: 0.31622776601683794\n",
      "Test Accuracy: 0.5250\n",
      "Running cross-validation repeat 3/5...\n",
      "\n",
      "Testing lambda = 0.01\n",
      "  Fold 1/5\n",
      "  Validation Accuracy: 0.5000\n",
      "  Sparsity: 0.0000\n",
      "  Fold 2/5\n",
      "  Validation Accuracy: 0.7600\n",
      "  Sparsity: 0.0000\n",
      "  Fold 3/5\n",
      "  Validation Accuracy: 0.9600\n",
      "  Sparsity: 0.0000\n",
      "  Fold 4/5\n",
      "  Validation Accuracy: 0.8800\n",
      "  Sparsity: 0.0000\n",
      "  Fold 5/5\n",
      "  Validation Accuracy: 0.7200\n",
      "  Sparsity: 0.0000\n",
      "\n",
      "Testing lambda = 0.03162277660168379\n",
      "  Fold 1/5\n",
      "  Validation Accuracy: 0.8077\n",
      "  Sparsity: 0.0000\n",
      "  Fold 2/5\n",
      "  Validation Accuracy: 0.7200\n",
      "  Sparsity: 0.0000\n",
      "  Fold 3/5\n",
      "  Validation Accuracy: 0.8000\n",
      "  Sparsity: 0.0000\n",
      "  Fold 4/5\n",
      "  Validation Accuracy: 0.8400\n",
      "  Sparsity: 0.0000\n",
      "  Fold 5/5\n",
      "  Validation Accuracy: 0.7200\n",
      "  Sparsity: 0.0000\n",
      "\n",
      "Testing lambda = 0.1\n",
      "  Fold 1/5\n",
      "  Validation Accuracy: 0.8462\n",
      "  Sparsity: 0.0000\n",
      "  Fold 2/5\n",
      "  Validation Accuracy: 0.6400\n",
      "  Sparsity: 0.0000\n",
      "  Fold 3/5\n",
      "  Validation Accuracy: 0.9200\n",
      "  Sparsity: 0.0000\n",
      "  Fold 4/5\n",
      "  Validation Accuracy: 0.8800\n",
      "  Sparsity: 0.0000\n",
      "  Fold 5/5\n",
      "  Validation Accuracy: 0.6800\n",
      "  Sparsity: 0.0000\n",
      "\n",
      "Testing lambda = 0.31622776601683794\n",
      "  Fold 1/5\n",
      "  Validation Accuracy: 0.8077\n",
      "  Sparsity: 0.0000\n",
      "  Fold 2/5\n",
      "  Validation Accuracy: 0.6400\n",
      "  Sparsity: 0.0000\n",
      "  Fold 3/5\n",
      "  Validation Accuracy: 0.8400\n",
      "  Sparsity: 0.0000\n",
      "  Fold 4/5\n",
      "  Validation Accuracy: 0.7600\n",
      "  Sparsity: 0.0000\n",
      "  Fold 5/5\n",
      "  Validation Accuracy: 0.7200\n",
      "  Sparsity: 0.0000\n",
      "\n",
      "Testing lambda = 1.0\n",
      "  Fold 1/5\n",
      "  Validation Accuracy: 0.7308\n",
      "  Sparsity: 0.0000\n",
      "  Fold 2/5\n",
      "  Validation Accuracy: 0.6000\n",
      "  Sparsity: 0.0000\n",
      "  Fold 3/5\n",
      "  Validation Accuracy: 0.7200\n",
      "  Sparsity: 0.0000\n",
      "  Fold 4/5\n",
      "  Validation Accuracy: 0.6800\n",
      "  Sparsity: 0.0000\n",
      "  Fold 5/5\n",
      "  Validation Accuracy: 0.7200\n",
      "  Sparsity: 0.0000\n",
      "Retraining with best lambda: 0.1\n",
      "Test Accuracy: 0.4750\n",
      "Running cross-validation repeat 4/5...\n",
      "\n",
      "Testing lambda = 0.01\n",
      "  Fold 1/5\n",
      "  Validation Accuracy: 0.7692\n",
      "  Sparsity: 0.0000\n",
      "  Fold 2/5\n",
      "  Validation Accuracy: 0.6400\n",
      "  Sparsity: 0.0000\n",
      "  Fold 3/5\n",
      "  Validation Accuracy: 0.9200\n",
      "  Sparsity: 0.0000\n",
      "  Fold 4/5\n",
      "  Validation Accuracy: 0.8800\n",
      "  Sparsity: 0.0000\n",
      "  Fold 5/5\n",
      "  Validation Accuracy: 0.6800\n",
      "  Sparsity: 0.0000\n",
      "\n",
      "Testing lambda = 0.03162277660168379\n",
      "  Fold 1/5\n",
      "  Validation Accuracy: 0.7692\n",
      "  Sparsity: 0.0000\n",
      "  Fold 2/5\n",
      "  Validation Accuracy: 0.6400\n",
      "  Sparsity: 0.0000\n",
      "  Fold 3/5\n",
      "  Validation Accuracy: 0.9600\n",
      "  Sparsity: 0.0000\n",
      "  Fold 4/5\n",
      "  Validation Accuracy: 0.8000\n",
      "  Sparsity: 0.0000\n",
      "  Fold 5/5\n",
      "  Validation Accuracy: 0.6800\n",
      "  Sparsity: 0.0000\n",
      "\n",
      "Testing lambda = 0.1\n",
      "  Fold 1/5\n",
      "  Validation Accuracy: 0.5000\n",
      "  Sparsity: 0.0000\n",
      "  Fold 2/5\n",
      "  Validation Accuracy: 0.6400\n",
      "  Sparsity: 0.0000\n",
      "  Fold 3/5\n",
      "  Validation Accuracy: 0.7600\n",
      "  Sparsity: 0.0000\n",
      "  Fold 4/5\n",
      "  Validation Accuracy: 0.8800\n",
      "  Sparsity: 0.0000\n",
      "  Fold 5/5\n",
      "  Validation Accuracy: 0.5200\n",
      "  Sparsity: 0.0000\n",
      "\n",
      "Testing lambda = 0.31622776601683794\n",
      "  Fold 1/5\n",
      "  Validation Accuracy: 0.7692\n",
      "  Sparsity: 0.0000\n",
      "  Fold 2/5\n",
      "  Validation Accuracy: 0.7200\n",
      "  Sparsity: 0.0000\n",
      "  Fold 3/5\n",
      "  Validation Accuracy: 0.6800\n",
      "  Sparsity: 0.0000\n",
      "  Fold 4/5\n",
      "  Validation Accuracy: 0.8400\n",
      "  Sparsity: 0.0000\n",
      "  Fold 5/5\n",
      "  Validation Accuracy: 0.4800\n",
      "  Sparsity: 0.0000\n",
      "\n",
      "Testing lambda = 1.0\n",
      "  Fold 1/5\n",
      "  Validation Accuracy: 0.8077\n",
      "  Sparsity: 0.0000\n",
      "  Fold 2/5\n",
      "  Validation Accuracy: 0.6800\n",
      "  Sparsity: 0.0000\n",
      "  Fold 3/5\n",
      "  Validation Accuracy: 0.9200\n",
      "  Sparsity: 0.0000\n",
      "  Fold 4/5\n",
      "  Validation Accuracy: 0.8000\n",
      "  Sparsity: 0.0000\n",
      "  Fold 5/5\n",
      "  Validation Accuracy: 0.6400\n",
      "  Sparsity: 0.0000\n",
      "Retraining with best lambda: 0.01\n",
      "Test Accuracy: 0.7500\n",
      "Running cross-validation repeat 5/5...\n",
      "\n",
      "Testing lambda = 0.01\n",
      "  Fold 1/5\n",
      "  Validation Accuracy: 0.8846\n",
      "  Sparsity: 0.0000\n",
      "  Fold 2/5\n",
      "  Validation Accuracy: 0.7200\n",
      "  Sparsity: 0.0000\n",
      "  Fold 3/5\n",
      "  Validation Accuracy: 0.8400\n",
      "  Sparsity: 0.0000\n",
      "  Fold 4/5\n",
      "  Validation Accuracy: 0.8400\n",
      "  Sparsity: 0.0000\n",
      "  Fold 5/5\n",
      "  Validation Accuracy: 0.8000\n",
      "  Sparsity: 0.0000\n",
      "\n",
      "Testing lambda = 0.03162277660168379\n",
      "  Fold 1/5\n",
      "  Validation Accuracy: 0.8077\n",
      "  Sparsity: 0.0000\n",
      "  Fold 2/5\n",
      "  Validation Accuracy: 0.7600\n",
      "  Sparsity: 0.0000\n",
      "  Fold 3/5\n",
      "  Validation Accuracy: 1.0000\n",
      "  Sparsity: 0.0000\n",
      "  Fold 4/5\n",
      "  Validation Accuracy: 0.7600\n",
      "  Sparsity: 0.0000\n",
      "  Fold 5/5\n",
      "  Validation Accuracy: 0.7200\n",
      "  Sparsity: 0.0000\n",
      "\n",
      "Testing lambda = 0.1\n",
      "  Fold 1/5\n",
      "  Validation Accuracy: 0.7692\n",
      "  Sparsity: 0.0000\n",
      "  Fold 2/5\n",
      "  Validation Accuracy: 0.7200\n",
      "  Sparsity: 0.0000\n",
      "  Fold 3/5\n",
      "  Validation Accuracy: 0.9600\n",
      "  Sparsity: 0.0000\n",
      "  Fold 4/5\n",
      "  Validation Accuracy: 0.6400\n",
      "  Sparsity: 0.0000\n",
      "  Fold 5/5\n",
      "  Validation Accuracy: 0.4800\n",
      "  Sparsity: 0.0000\n",
      "\n",
      "Testing lambda = 0.31622776601683794\n",
      "  Fold 1/5\n",
      "  Validation Accuracy: 0.7692\n",
      "  Sparsity: 0.0000\n",
      "  Fold 2/5\n",
      "  Validation Accuracy: 0.6800\n",
      "  Sparsity: 0.0000\n",
      "  Fold 3/5\n",
      "  Validation Accuracy: 0.8800\n",
      "  Sparsity: 0.0000\n",
      "  Fold 4/5\n",
      "  Validation Accuracy: 0.8000\n",
      "  Sparsity: 0.0000\n",
      "  Fold 5/5\n",
      "  Validation Accuracy: 0.5200\n",
      "  Sparsity: 0.0000\n",
      "\n",
      "Testing lambda = 1.0\n",
      "  Fold 1/5\n",
      "  Validation Accuracy: 0.8462\n",
      "  Sparsity: 0.0000\n",
      "  Fold 2/5\n",
      "  Validation Accuracy: 0.7200\n",
      "  Sparsity: 0.0000\n",
      "  Fold 3/5\n",
      "  Validation Accuracy: 0.9200\n",
      "  Sparsity: 0.0000\n",
      "  Fold 4/5\n",
      "  Validation Accuracy: 0.8000\n",
      "  Sparsity: 0.0000\n",
      "  Fold 5/5\n",
      "  Validation Accuracy: 0.5600\n",
      "  Sparsity: 0.0000\n",
      "Retraining with best lambda: 0.01\n",
      "Test Accuracy: 0.6750\n",
      "Cross-validation took 2839.19 seconds\n"
     ]
    }
   ],
   "source": [
    "import torch\n",
    "import numpy as np\n",
    "import logging\n",
    "import time\n",
    "import matplotlib.pyplot as plt\n",
    "import torch.nn.functional as F\n",
    "\n",
    "# Silence Lightning logs\n",
    "logging.getLogger(\"pytorch_lightning\").setLevel(logging.ERROR)\n",
    "\n",
    "lambda_grid = np.logspace(-2, 0, 5)\n",
    "num_repeats = 5\n",
    "pixel_selection_counts = []\n",
    "\n",
    "start_time = time.time()\n",
    "\n",
    "# Run multiple repeats\n",
    "for repeat in range(num_repeats):\n",
    "    print(f\"Running cross-validation repeat {repeat+1}/{num_repeats}...\")\n",
    "    \n",
    "    # Run cross-validation\n",
    "    results = run_cv_for_lambdas(train_dataset, lambdas=lambda_grid, max_epochs=150)\n",
    "    \n",
    "    # Assume run_cv_for_lambdas returns the best trained model\n",
    "    best_model = max(results, key=lambda x: x[\"val_acc_mean\"])\n",
    "    best_lambda = best_model[\"lambda\"]\n",
    "    \n",
    "    # retrain on the full training set with the best lambda\n",
    "    print(f\"Retraining with best lambda: {best_lambda}\")\n",
    "    model = PixelLassoCNN(l1_lambda=best_lambda)\n",
    "    trainer = pl.Trainer(\n",
    "        max_epochs=150,\n",
    "        enable_progress_bar=False,\n",
    "        logger=False,\n",
    "        accelerator=\"auto\",\n",
    "        enable_model_summary=False,\n",
    "    )\n",
    "    trainer.fit(model, train_loader, val_loader)\n",
    "    # Evaluate on the test set\n",
    "    test_accuracy = evaluate_model(model, test_loader)\n",
    "    print(f\"Test Accuracy: {test_accuracy:.4f}\")\n",
    "    # Get the mask\n",
    "    best_mask = model.input_mask.detach().cpu().squeeze().numpy()\n",
    "    \n",
    "    # Threshold the mask (select \"active\" pixels)\n",
    "    threshold = 0.01\n",
    "    selected_pixels = (best_mask > threshold).astype(np.float32)\n",
    "    \n",
    "    pixel_selection_counts.append(selected_pixels)\n",
    "\n",
    "end_time = time.time()\n",
    "print(f\"Cross-validation took {end_time - start_time:.2f} seconds\")\n",
    "\n",
    "# Stack and sum selection maps\n",
    "pixel_selection_counts = np.stack(pixel_selection_counts, axis=0)  # (num_repeats, H, W)\n",
    "consensus_map = pixel_selection_counts.sum(axis=0)  # (H, W)\n",
    "\n",
    "# Normalize to [0, 1] if you want\n",
    "consensus_map_normalized = consensus_map / num_repeats\n",
    "\n"
   ]
  },
  {
   "cell_type": "code",
   "execution_count": 189,
   "id": "ace4e412",
   "metadata": {},
   "outputs": [
    {
     "data": {
      "image/png": "[encoded data removed]",
      "text/plain": [
       "<Figure size 640x480 with 2 Axes>"
      ]
     },
     "metadata": {},
     "output_type": "display_data"
    }
   ],
   "source": [
    "# Plot feature selection map\n",
    "plt.imshow(consensus_map_normalized, cmap=\"viridis\", interpolation=\"nearest\")\n",
    "plt.title(\"Feature Selection CNN\", fontsize=16, fontweight=\"bold\")\n",
    "plt.colorbar(label=\"Fraction of runs selected (of 5)\")\n",
    "plt.axis(\"off\")\n",
    "plt.show()"
   ]
  },
  {
   "cell_type": "markdown",
   "id": "252c8753",
   "metadata": {},
   "source": [
    "### SVM using Lasso and Forward selection"
   ]
  },
  {
   "cell_type": "code",
   "execution_count": 178,
   "id": "e4471a36",
   "metadata": {},
   "outputs": [],
   "source": [
    "from sklearn.model_selection import cross_validate\n",
    "from sklearn.linear_model import LogisticRegression\n",
    "from sklearn.pipeline import Pipeline\n",
    "from sklearn.preprocessing import StandardScaler\n",
    "from sklearn.feature_selection import SelectKBest, SelectFromModel, f_classif\n",
    "from sklearn.svm import SVC\n",
    "import numpy as np\n",
    "import pandas as pd"
   ]
  },
  {
   "cell_type": "code",
   "execution_count": 179,
   "id": "592ef5df",
   "metadata": {},
   "outputs": [
    {
     "name": "stdout",
     "output_type": "stream",
     "text": [
      "[0 0 0 0 0 0 0 0 0 0 0 0 0 0 0 0 0 0 0 0 0 0 0 0 0 0 0 0 0 0 0 0 0 0 0 0 0\n",
      " 0 0 0 0 0 0 0 0 0 0 0 0 0 0 0 0 0 0 0 0 0 0 0 0 0 0 0 0 0 0 0 0 0 0 0 0 0\n",
      " 0 0 0 0 0 0 0 0 0 0 0 0 0 0 0 0 0 0 0 0 0 0 0 0 1 1 1 1 1 1 1 1 1 1 1 1 1\n",
      " 1 1 1 1 1 1 1 1 1 1 1 1 1 1 1 1 1 1 1 1 1 1 1 1 1 1 1 1 1 1 1 1 1 1 1 1 1\n",
      " 1 1 1 1 1 1 1 1 1 1 1 1 1 1 1 1 1 1 1 1 1 1 1 1 1 1 1 1 1 1 1 1 1 1 1 1 1\n",
      " 1 1 1 1 1 1 1 1 1 1 1 1 1]\n"
     ]
    },
    {
     "data": {
      "image/png": "[encoded data removed]",
      "text/plain": [
       "<Figure size 1250x300 with 5 Axes>"
      ]
     },
     "metadata": {},
     "output_type": "display_data"
    }
   ],
   "source": [
    "df = pd.read_csv('catdogdata.txt', delimiter=' ')\n",
    "df['label'] = 0 # cats are the first 99 entries\n",
    "df.loc[99:198, 'label'] = 1 # dogs are the next 99 entries\n",
    "\n",
    "rotated_images = np.array([rotate_image(row.values) for _, row in df.iloc[:, :-1].iterrows()])\n",
    "df.iloc[:, :-1] = rotated_images\n",
    "\n",
    "X = df.iloc[:, :-1].values\n",
    "y = df.iloc[:, -1].values\n",
    "\n",
    "print(y)\n",
    "plot_examples(df, n=5)"
   ]
  },
  {
   "cell_type": "code",
   "execution_count": 180,
   "id": "d77aeabd",
   "metadata": {},
   "outputs": [],
   "source": [
    "# Pipeline for SVM using F-test\n",
    "pipelineSVMFilter = Pipeline([\n",
    "    ('scaler', StandardScaler()),\n",
    "    ('feature_selection', SelectKBest(score_func=f_classif, k=100)),  # Select top 30 features\n",
    "    ('svm', SVC(kernel='linear'))\n",
    "])\n",
    "\n",
    "# Pipeline for SVM using embedded Lasso\n",
    "pipelineSVMLasso = Pipeline([\n",
    "    ('scaler', StandardScaler()),\n",
    "    ('feature_selection', SelectFromModel(\n",
    "        LogisticRegression(penalty='l1', solver='saga', C=0.1, max_iter=5000), \n",
    "        prefit=False\n",
    "    )),\n",
    "    ('svm', SVC(kernel='linear'))\n",
    "])\n",
    "\n",
    "pipelineSVMBoth = Pipeline([\n",
    "    ('scaler', StandardScaler()),\n",
    "    ('filtering', SelectKBest(score_func=f_classif, k=100)),  # First, F-test to top 50 features\n",
    "    ('feature_selection', SelectFromModel(\n",
    "        LogisticRegression(penalty='l1', solver='saga', C=0.1, max_iter=5000),\n",
    "        prefit=False\n",
    "    )),  # Then, Lasso\n",
    "    ('svm', SVC(kernel='linear'))\n",
    "])\n"
   ]
  },
  {
   "cell_type": "code",
   "execution_count": 181,
   "id": "8c24d687",
   "metadata": {},
   "outputs": [],
   "source": [
    "# Cross-validate and return the fitted estimators\n",
    "def fit_and_evaluate_pipeline(pipeline, Xdata, ydata, cv = 5):\n",
    "    cv_results = cross_validate(\n",
    "        pipeline, Xdata, ydata, \n",
    "        cv=5, \n",
    "        return_estimator=True\n",
    "    )\n",
    "\n",
    "    # Access all trained estimators\n",
    "    fitted_pipelines = cv_results['estimator']\n",
    "\n",
    "    # Now: Extract feature selection masks from each estimator\n",
    "    masks = []\n",
    "    for pipe in fitted_pipelines:\n",
    "        mask = pipe.named_steps['feature_selection'].get_support()\n",
    "        masks.append(mask)\n",
    "\n",
    "    # Stack masks into array\n",
    "    masks = np.array(masks)\n",
    "\n",
    "    # How often each feature was selected across CV folds\n",
    "    selection_counts = np.sum(masks, axis=0)\n",
    "\n",
    "    print(\"Selection frequency for each feature:\", selection_counts)\n",
    "\n",
    "    print(\"CV Accuracy:\", np.mean(cv_results['test_score']))\n",
    "\n",
    "    return selection_counts, cv_results\n"
   ]
  },
  {
   "cell_type": "code",
   "execution_count": 182,
   "id": "ceb7e21d",
   "metadata": {},
   "outputs": [
    {
     "name": "stdout",
     "output_type": "stream",
     "text": [
      "Selection frequency for each feature: [0 0 0 ... 0 0 0]\n",
      "CV Accuracy: 0.6757692307692307\n"
     ]
    },
    {
     "data": {
      "image/png": "[encoded data removed]",
      "text/plain": [
       "<Figure size 640x480 with 2 Axes>"
      ]
     },
     "metadata": {},
     "output_type": "display_data"
    }
   ],
   "source": [
    "# Fit SVM and feature select using F-test\n",
    "\n",
    "countsSVM, cvSMV = fit_and_evaluate_pipeline(pipelineSVMFilter, X, y)\n",
    "\n",
    "size = (64,64)\n",
    "\n",
    "heatmap = countsSVM.reshape(*size)\n",
    "\n",
    "plt.imshow(heatmap, cmap='viridis')\n",
    "plt.colorbar(label='Times Selected Across Folds')\n",
    "plt.title('Crossvalidation Feature Selection F-test')\n",
    "plt.show()"
   ]
  },
  {
   "cell_type": "code",
   "execution_count": 183,
   "id": "5adf151c",
   "metadata": {},
   "outputs": [
    {
     "name": "stdout",
     "output_type": "stream",
     "text": [
      "Selection frequency for each feature: [0 0 0 ... 0 0 0]\n",
      "CV Accuracy: 0.7723076923076924\n"
     ]
    },
    {
     "data": {
      "image/png": "[encoded data removed]",
      "text/plain": [
       "<Figure size 640x480 with 2 Axes>"
      ]
     },
     "metadata": {},
     "output_type": "display_data"
    }
   ],
   "source": [
    "# Fit SVM and feature select using Lasso + LR\n",
    "\n",
    "countsSVMLasso, cvSMVLasso = fit_and_evaluate_pipeline(pipelineSVMLasso, X, y)\n",
    "\n",
    "size = (64,64)\n",
    "\n",
    "heatmap = countsSVMLasso.reshape(*size)\n",
    "\n",
    "plt.imshow(heatmap, cmap='viridis')\n",
    "plt.colorbar(label='Times Selected Across Folds')\n",
    "plt.title('Crossvalidation Feature Selection Lasso')\n",
    "plt.show()"
   ]
  },
  {
   "cell_type": "code",
   "execution_count": 184,
   "id": "65ad652b",
   "metadata": {},
   "outputs": [
    {
     "name": "stdout",
     "output_type": "stream",
     "text": [
      "Selection frequency for each feature: [0 0 1 0 0 0 1 0 0 0 0 0 0 0 1 0 0 0 0 0 0 0 1 0 1 0 1 1 0 1 1 0 1 1 0 0 0\n",
      " 0 0 0 1 0 0 0 0 0 0 0 0 0 0 0 0 0 0 0 0 0 0 1 1 0 2 0 0 0 0 0 1 0 0 1 0 1\n",
      " 0 0 0 0 0 0 1 2 1 1 0 0 1 1 1 0 0 1 1 0 0 0 0 0 1 2]\n",
      "CV Accuracy: 0.7015384615384616\n"
     ]
    },
    {
     "data": {
      "image/png": "[encoded data removed]",
      "text/plain": [
       "<Figure size 640x480 with 2 Axes>"
      ]
     },
     "metadata": {},
     "output_type": "display_data"
    }
   ],
   "source": [
    "# Fit SVM and feature select using F-test and Lasso\n",
    "\n",
    "countsSVMBoth, cvSVMBoth = fit_and_evaluate_pipeline(pipelineSVMBoth, X, y)\n",
    "\n",
    "fit_pipe = cvSVMBoth['estimator']\n",
    "\n",
    "size = (64,64)\n",
    "full_masks = []\n",
    "for pipe in fit_pipe:\n",
    "    # Step 1: Which features survived the initial filter\n",
    "    filtering_support = pipe.named_steps['filtering'].get_support()\n",
    "    filtered_indices = np.where(filtering_support)[0]\n",
    "\n",
    "    # Step 2: Which features survived Lasso among the filtered\n",
    "    lasso_support = pipe.named_steps['feature_selection'].get_support()\n",
    "\n",
    "    # Step 3: Map back to original feature space\n",
    "    full_mask = np.zeros(X.shape[1], dtype=bool)\n",
    "    full_mask[filtered_indices[lasso_support]] = True\n",
    "\n",
    "    full_masks.append(full_mask)\n",
    "\n",
    "# Stack masks\n",
    "full_masks = np.array(full_masks)\n",
    "\n",
    "# How often each pixel was selected\n",
    "selection_counts = np.sum(full_masks, axis=0)\n",
    "\n",
    "heatmap = selection_counts.reshape(*size)\n",
    "\n",
    "plt.imshow(heatmap, cmap='viridis')\n",
    "plt.colorbar(label='Times Selected Across Folds')\n",
    "plt.title('Crossvalidation Feature Selection Lasso')\n",
    "plt.show()"
   ]
  }
 ],
 "metadata": {
  "kernelspec": {
   "display_name": "Python 3",
   "language": "python",
   "name": "python3"
  },
  "language_info": {
   "codemirror_mode": {
    "name": "ipython",
    "version": 3
   },
   "file_extension": ".py",
   "mimetype": "text/x-python",
   "name": "python",
   "nbconvert_exporter": "python",
   "pygments_lexer": "ipython3",
   "version": "3.10.8"
  }
 },
 "nbformat": 4,
 "nbformat_minor": 5
}
